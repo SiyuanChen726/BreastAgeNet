{
 "cells": [
  {
   "cell_type": "code",
   "execution_count": 3,
   "id": "fce5ed71-9005-4146-89f7-2f78998452e6",
   "metadata": {},
   "outputs": [],
   "source": [
    "import os\n",
    "import sys\n",
    "import shutil \n",
    "sys.path.append('/scratch/users/k21066795/prj_normal/RandStainNA')\n",
    "from randstainna import RandStainNA\n",
    "\n",
    "import glob\n",
    "import h5py\n",
    "import random\n",
    "from PIL import Image\n",
    "from tqdm import tqdm\n",
    "import numpy as np\n",
    "import pandas as pd\n",
    "import matplotlib.pyplot as plt\n",
    "import torch\n",
    "\n",
    "\n",
    "from randstainna import RandStainNA\n",
    "import cv2\n",
    "\n",
    "from utils_data import add_ageGroup\n",
    "from utils_features import ensemble_feas_labels, labelingFeature, CSVDataset_WSI, get_model, extract_features, sampeled_UMP\n",
    "from utils import plot_multiple, plot_oneline\n",
    "\n",
    "import shutil\n",
    "# dir_name = '/scratch/prj/cb_normalbreast/Siyuan/prj_normal/BreastAgeNet/DATA/bagFeatures/development'\n",
    "# shutil.make_archive(dir_name, 'zip', dir_name)"
   ]
  },
  {
   "cell_type": "markdown",
   "id": "ca32c441-f0b9-4267-857e-652f4e20305f",
   "metadata": {},
   "source": [
    "#--------------------------check clinic----------------------------#"
   ]
  },
  {
   "cell_type": "code",
   "execution_count": 98,
   "id": "7e78456c-1f3b-48fa-8a56-59ac29f3cd40",
   "metadata": {},
   "outputs": [],
   "source": [
    "cls = ['epithelium', 'stroma'] # _patch.csv only to get patches predicted as cls\n",
    "WSIs = '/scratch/prj/cb_normalbreast/Siyuan/prj_normal/BreastAgeNet/WSIs/SGK_healthy'  # where to get WSIs???\n",
    "rootdir = '/scratch/prj/cb_normalbreast/Siyuan/prj_normal/BreastAgeNet/RootDir/SGK_healthy' # where to get _patch.csv, .h5 files\n",
    "clinic = '/scratch/prj/cb_normalbreast/Siyuan/prj_normal/BreastAgeNet/DATA/clinicData' # where to get clinic.csv"
   ]
  },
  {
   "cell_type": "code",
   "execution_count": 99,
   "id": "96e54ea4-1c08-404f-87a3-2172b48899be",
   "metadata": {},
   "outputs": [
    {
     "name": "stdout",
     "output_type": "stream",
     "text": [
      "percentage of patients in each group \n",
      " <30y: 268  30-50y: 853  >50y 1087\n"
     ]
    }
   ],
   "source": [
    "# get KHP_RM df\n",
    "SGK_clinic = glob.glob(f\"{clinic}/*SGK*\")[0]\n",
    "\n",
    "SGK_clinic_df = pd.read_csv(SGK_clinic)\n",
    "SGK_clinic_df = add_ageGroup(SGK_clinic_df) # add categorical age group based on patients' age\n",
    "\n",
    "_, counts = np.unique(SGK_clinic_df['age_group'], return_counts=True)\n",
    "m, y, o = counts\n",
    "print(f\"percentage of patients in each group \\n <30y: {y}  30-50y: {m}  >50y {o}\")"
   ]
  },
  {
   "cell_type": "markdown",
   "id": "302a6f1e-9935-4934-be7e-e013d2f9b4ae",
   "metadata": {},
   "source": [
    "#--------------------------extract features----------------------------#"
   ]
  },
  {
   "cell_type": "code",
   "execution_count": null,
   "id": "df99ebac-0e12-4609-9413-dd49ee1e5ada",
   "metadata": {
    "jupyter": {
     "source_hidden": true
    }
   },
   "outputs": [],
   "source": [
    "model_name = 'resnet50'\n",
    "WSIs = '/scratch/prj/cb_normalbreast/Siyuan/prj_normal/BreastAgeNet/WSIs/KHP_RM'  # where to get WSIs???\n",
    "rootdir = '/scratch/prj/cb_normalbreast/Siyuan/prj_normal/BreastAgeNet/RootDir/KHP_RM' # where to get _patch.csv, .h5 files\n",
    "cls = ['epithelium', 'stroma'] # _patch.csv only to get patches predicted as cls\n",
    "batch_size = 4\n",
    "num_workers = 0"
   ]
  },
  {
   "cell_type": "code",
   "execution_count": null,
   "id": "c0e3278c-7c06-4bb8-ac32-fdc27555ec9b",
   "metadata": {
    "jupyter": {
     "source_hidden": true
    }
   },
   "outputs": [],
   "source": [
    "# get GPU\n",
    "device = torch.device('cuda') if torch.cuda.is_available() else torch.device('cpu')\n",
    "print(f\"device: {device}\")\n",
    "# get the model\n",
    "model, transform = get_model(model_name, device)\n",
    "print(f\"model_name: {model_name}\")\n",
    "for wsiname in os.listdir(rootdir):\n",
    "    bag_folder = os.path.join(rootdir, wsiname)\n",
    "    # define the output .h5 feature file\n",
    "    fname = f\"{bag_folder}/{os.path.basename(bag_folder)}_bagFeature_{model_name}.h5\"\n",
    "    if not os.path.exists(fname):\n",
    "        bag_csv = glob.glob(f\"{bag_folder}/*_patch.csv\")  # localise the file containing patch ids\n",
    "        if len(bag_csv)>0:\n",
    "            bag_df = pd.read_csv(bag_csv[0])\n",
    "            if len(bag_df) >0:\n",
    "                print(f\"------extracting {model_name} features for {wsiname}------\")\n",
    "                bag_df = bag_df.loc[bag_df['cls'].isin(cls)]\n",
    "                # give the bag_df containing patch ids, folder containing WSIs, model, output file pt\n",
    "                extract_features(bag_df, WSIs, model, transform, device, fname, batch_size=4, num_workers=0)\n",
    "\n",
    "###### here, the issue was when submitting jobs, can not handle multiple processes"
   ]
  },
  {
   "cell_type": "code",
   "execution_count": 6,
   "id": "9ef44846-e53a-4d9d-8120-444c55c83597",
   "metadata": {},
   "outputs": [
    {
     "name": "stdout",
     "output_type": "stream",
     "text": [
      "gigapath, 915\n",
      "UNI, 915\n",
      "iBOT, 915\n",
      "resnet50, 915\n",
      "3660\n"
     ]
    }
   ],
   "source": [
    "rein_files_tCpoy = []\n",
    "\n",
    "for model_name in ['gigapath', 'UNI', 'iBOT', 'resnet50']:\n",
    "    feature_files = glob.glob(f\"{rootdir}/*/*_bagFeature_*{model_name}_reinhard.h5\")\n",
    "    print(f\"{model_name}, {len(feature_files)}\")\n",
    "    rein_files_tCpoy.extend(feature_files)\n",
    "    \n",
    "print(len(rein_files_tCpoy))"
   ]
  },
  {
   "cell_type": "code",
   "execution_count": 5,
   "id": "52be462c-107a-468b-b586-b771636c5f06",
   "metadata": {},
   "outputs": [
    {
     "name": "stdout",
     "output_type": "stream",
     "text": [
      "gigapath, 915\n",
      "UNI, 915\n",
      "iBOT, 915\n",
      "resnet50, 915\n",
      "3660\n"
     ]
    },
    {
     "data": {
      "text/plain": [
       "'\\ning...: \\ngigapath norm x2\\ngiga aug \\nUNI aug \\niBOT norm\\nres norm\\nres aug x2\\n'"
      ]
     },
     "execution_count": 5,
     "metadata": {},
     "output_type": "execute_result"
    }
   ],
   "source": [
    "aug_files_tCpoy = []\n",
    "for model_name in ['gigapath', 'UNI', 'iBOT', 'resnet50']:\n",
    "    feature_files = glob.glob(f\"{rootdir}/*/*_bagFeature_*{model_name}_augmentation.h5\")\n",
    "    print(f\"{model_name}, {len(feature_files)}\")\n",
    "    aug_files_tCpoy.extend(feature_files)\n",
    "\n",
    "print(len(aug_files_tCpoy))"
   ]
  },
  {
   "cell_type": "markdown",
   "id": "2101f2bd-4209-4890-acf4-5641ad7613b7",
   "metadata": {},
   "source": [
    "#-------------------------- feature transfer ----------------------------#"
   ]
  },
  {
   "cell_type": "code",
   "execution_count": 9,
   "id": "596e1323-1f9f-4ea6-8db2-a7fea77f3844",
   "metadata": {},
   "outputs": [],
   "source": [
    "import shutil \n",
    "\n",
    "\n",
    "# for src in rein_files_tCpoy:\n",
    "#     basename = os.path.basename(src)\n",
    "#     model_name, stainFunc = basename.split('_')[-2:]\n",
    "#     stainFunc = stainFunc.split('.')[0]\n",
    "    \n",
    "#     tar_folder = f'/scratch/prj/cb_normalbreast/Siyuan/prj_normal/BreastAgeNet/DATA/bagFeatures/development/{model_name}_{stainFunc}'\n",
    "#     tar = os.path.join(tar_folder, basename)\n",
    "\n",
    "#     shutil.copyfile(src, tar)\n",
    "\n",
    "\n",
    "# for src in aug_files_tCpoy:\n",
    "#     basename = os.path.basename(src)\n",
    "#     model_name, stainFunc = basename.split('_')[-2:]\n",
    "#     stainFunc = stainFunc.split('.')[0]\n",
    "    \n",
    "#     tar_folder = f'/scratch/prj/cb_normalbreast/Siyuan/prj_normal/BreastAgeNet/DATA/bagFeatures/development/{model_name}_{stainFunc}'\n",
    "#     tar = os.path.join(tar_folder, basename)\n",
    "\n",
    "#     shutil.copyfile(src, tar)"
   ]
  },
  {
   "cell_type": "markdown",
   "id": "54ecb96c-5ee8-44b1-9df4-7c54e1002752",
   "metadata": {},
   "source": [
    "#-------------------------- feature and clinic ----------------------------#"
   ]
  },
  {
   "cell_type": "code",
   "execution_count": 35,
   "id": "a1347126-e797-4a9d-b11f-9aab52362e6f",
   "metadata": {},
   "outputs": [
    {
     "name": "stdout",
     "output_type": "stream",
     "text": [
      "percentage of patients in each group \n",
      " <30y: 162  30-50y: 412  >50y 341\n"
     ]
    }
   ],
   "source": [
    "# merge_feature_clinic(rootdir, clinic=os.path.join(clinic, 'SGK_2k.csv'))\n",
    "ages = []\n",
    "for wsiname in os.listdir(rootdir):\n",
    "    folder = os.path.join(rootdir, wsiname)\n",
    "    pt = glob.glob(f'{folder}/*patch_merge.csv')\n",
    "    if len(pt) >0:\n",
    "        pt = pt[0]\n",
    "        df = pd.read_csv(pt)\n",
    "        if len(df)>0:\n",
    "            ages.append(np.unique(df['age_group'])[0])\n",
    "\n",
    "_, counts = np.unique(ages, return_counts=True)\n",
    "m, y, o = counts\n",
    "print(f\"percentage of patients in each group \\n <30y: {y}  30-50y: {m}  >50y {o}\")"
   ]
  },
  {
   "cell_type": "markdown",
   "id": "788a18c1-83a8-4bf2-b37a-b56d8120d2d3",
   "metadata": {},
   "source": [
    "#--------------------------show umap----------------------------#"
   ]
  },
  {
   "cell_type": "code",
   "execution_count": 41,
   "id": "371566d5-45d9-4f05-af83-c5d9d2508c69",
   "metadata": {
    "jupyter": {
     "source_hidden": true
    }
   },
   "outputs": [],
   "source": [
    "def show_Umap_norm_aug(model_name, rootdir, sample_num,n=50, d=0.2):\n",
    "    imgs = []\n",
    "    captions = []\n",
    "    \n",
    "    stainFunc = 'reinhard'\n",
    "    meta_label = 'cls'\n",
    "    img = sampeled_UMP(model_name, meta_label, sample_num, rootdir, stainFunc, n, d, save_pt=None)\n",
    "    imgs.append(img)\n",
    "    captions.append(f'{model_name}_{stainFunc}_cls')\n",
    "    \n",
    "    meta_label = 'age_group'\n",
    "    img = sampeled_UMP(model_name, meta_label, sample_num, rootdir, stainFunc, n, d, save_pt=None)\n",
    "    imgs.append(img)\n",
    "    captions.append(f'{model_name}_{stainFunc}_age_group')\n",
    "    \n",
    "    stainFunc = 'augmentation'\n",
    "    meta_label = 'cls'\n",
    "    img = sampeled_UMP(model_name, meta_label, sample_num, rootdir, stainFunc, n, d, save_pt=None)\n",
    "    imgs.append(img)\n",
    "    captions.append(f'{model_name}_{stainFunc}_cls')\n",
    "    \n",
    "    meta_label = 'age_group'\n",
    "    img = sampeled_UMP(model_name, meta_label, sample_num, rootdir, stainFunc, n, d, save_pt=None)\n",
    "    imgs.append(img)\n",
    "    captions.append(f'{model_name}_{stainFunc}_age_group')\n",
    "    \n",
    "    plot_multiple(imgs, ['norm','norm','aug','aug'], 2,2 ,figure_size=(5,5), cmap='tab20')"
   ]
  },
  {
   "cell_type": "code",
   "execution_count": 42,
   "id": "e969548f-d472-45a9-9f20-7032d18ff29a",
   "metadata": {},
   "outputs": [
    {
     "name": "stdout",
     "output_type": "stream",
     "text": [
      "(309152, 768)\n"
     ]
    },
    {
     "ename": "TypeError",
     "evalue": "'<' not supported between instances of 'float' and 'NoneType'",
     "output_type": "error",
     "traceback": [
      "\u001b[0;31m---------------------------------------------------------------------------\u001b[0m",
      "\u001b[0;31mTypeError\u001b[0m                                 Traceback (most recent call last)",
      "Cell \u001b[0;32mIn[42], line 4\u001b[0m\n\u001b[1;32m      1\u001b[0m model_name \u001b[38;5;241m=\u001b[39m \u001b[38;5;124m'\u001b[39m\u001b[38;5;124miBOT\u001b[39m\u001b[38;5;124m'\u001b[39m\n\u001b[1;32m      2\u001b[0m sample_num \u001b[38;5;241m=\u001b[39m \u001b[38;5;241m50000\u001b[39m\n\u001b[0;32m----> 4\u001b[0m \u001b[43mshow_Umap_norm_aug\u001b[49m\u001b[43m(\u001b[49m\u001b[43mmodel_name\u001b[49m\u001b[43m,\u001b[49m\u001b[43m \u001b[49m\u001b[43mrootdir\u001b[49m\u001b[43m,\u001b[49m\u001b[43m \u001b[49m\u001b[43msample_num\u001b[49m\u001b[43m)\u001b[49m\n",
      "Cell \u001b[0;32mIn[41], line 7\u001b[0m, in \u001b[0;36mshow_Umap_norm_aug\u001b[0;34m(model_name, rootdir, sample_num, n, d)\u001b[0m\n\u001b[1;32m      5\u001b[0m stainFunc \u001b[38;5;241m=\u001b[39m \u001b[38;5;124m'\u001b[39m\u001b[38;5;124mreinhard\u001b[39m\u001b[38;5;124m'\u001b[39m\n\u001b[1;32m      6\u001b[0m meta_label \u001b[38;5;241m=\u001b[39m \u001b[38;5;124m'\u001b[39m\u001b[38;5;124mcls\u001b[39m\u001b[38;5;124m'\u001b[39m\n\u001b[0;32m----> 7\u001b[0m img \u001b[38;5;241m=\u001b[39m \u001b[43msampeled_UMP\u001b[49m\u001b[43m(\u001b[49m\u001b[43mmodel_name\u001b[49m\u001b[43m,\u001b[49m\u001b[43m \u001b[49m\u001b[43mmeta_label\u001b[49m\u001b[43m,\u001b[49m\u001b[43m \u001b[49m\u001b[43msample_num\u001b[49m\u001b[43m,\u001b[49m\u001b[43m \u001b[49m\u001b[43mrootdir\u001b[49m\u001b[43m,\u001b[49m\u001b[43m \u001b[49m\u001b[43mstainFunc\u001b[49m\u001b[43m,\u001b[49m\u001b[43m \u001b[49m\u001b[43mn\u001b[49m\u001b[43m,\u001b[49m\u001b[43m \u001b[49m\u001b[43md\u001b[49m\u001b[43m,\u001b[49m\u001b[43m \u001b[49m\u001b[43msave_pt\u001b[49m\u001b[38;5;241;43m=\u001b[39;49m\u001b[38;5;28;43;01mNone\u001b[39;49;00m\u001b[43m)\u001b[49m\n\u001b[1;32m      8\u001b[0m imgs\u001b[38;5;241m.\u001b[39mappend(img)\n\u001b[1;32m      9\u001b[0m captions\u001b[38;5;241m.\u001b[39mappend(\u001b[38;5;124mf\u001b[39m\u001b[38;5;124m'\u001b[39m\u001b[38;5;132;01m{\u001b[39;00mmodel_name\u001b[38;5;132;01m}\u001b[39;00m\u001b[38;5;124m_\u001b[39m\u001b[38;5;132;01m{\u001b[39;00mstainFunc\u001b[38;5;132;01m}\u001b[39;00m\u001b[38;5;124m_cls\u001b[39m\u001b[38;5;124m'\u001b[39m)\n",
      "File \u001b[0;32m/scratch/users/k21066795/prj_normal/BreastAgeNet_MIL/utils_features.py:345\u001b[0m, in \u001b[0;36msampeled_UMP\u001b[0;34m(model_name, meta_label, sample_num, rootdir, stainFunc, n, d, save_pt)\u001b[0m\n\u001b[1;32m    342\u001b[0m \u001b[38;5;28mprint\u001b[39m(embeddings\u001b[38;5;241m.\u001b[39mshape)\n\u001b[1;32m    344\u001b[0m random_index \u001b[38;5;241m=\u001b[39m random\u001b[38;5;241m.\u001b[39msample(\u001b[38;5;28mrange\u001b[39m(\u001b[38;5;241m0\u001b[39m, embeddings\u001b[38;5;241m.\u001b[39mshape[\u001b[38;5;241m0\u001b[39m]), sample_num)\n\u001b[0;32m--> 345\u001b[0m img \u001b[38;5;241m=\u001b[39m \u001b[43mcreate_UMAP\u001b[49m\u001b[43m(\u001b[49m\u001b[43membeddings\u001b[49m\u001b[43m[\u001b[49m\u001b[43mrandom_index\u001b[49m\u001b[43m]\u001b[49m\u001b[43m,\u001b[49m\u001b[43m \u001b[49m\u001b[43mlabels\u001b[49m\u001b[43m[\u001b[49m\u001b[43mrandom_index\u001b[49m\u001b[43m]\u001b[49m\u001b[43m,\u001b[49m\u001b[43m \u001b[49m\u001b[43mn\u001b[49m\u001b[43m,\u001b[49m\u001b[43m \u001b[49m\u001b[43md\u001b[49m\u001b[43m,\u001b[49m\u001b[43m \u001b[49m\u001b[43msave_pt\u001b[49m\u001b[43m)\u001b[49m\n\u001b[1;32m    347\u001b[0m \u001b[38;5;28;01mreturn\u001b[39;00m img\n",
      "File \u001b[0;32m/scratch/users/k21066795/prj_normal/BreastAgeNet_MIL/utils_features.py:322\u001b[0m, in \u001b[0;36mcreate_UMAP\u001b[0;34m(embeddings, labels, sample_num, n, d, save_pt)\u001b[0m\n\u001b[1;32m    319\u001b[0m random_index \u001b[38;5;241m=\u001b[39m random\u001b[38;5;241m.\u001b[39msample(\u001b[38;5;28mrange\u001b[39m(\u001b[38;5;241m0\u001b[39m, embeddings\u001b[38;5;241m.\u001b[39mshape[\u001b[38;5;241m0\u001b[39m]), sample_num)\n\u001b[1;32m    320\u001b[0m embeddings, labels \u001b[38;5;241m=\u001b[39m embeddings[random_index], labels[random_index]\n\u001b[0;32m--> 322\u001b[0m mapper \u001b[38;5;241m=\u001b[39m \u001b[43mumap\u001b[49m\u001b[38;5;241;43m.\u001b[39;49m\u001b[43mUMAP\u001b[49m\u001b[43m(\u001b[49m\u001b[43mn_neighbors\u001b[49m\u001b[38;5;241;43m=\u001b[39;49m\u001b[43mn\u001b[49m\u001b[43m,\u001b[49m\u001b[43m \u001b[49m\u001b[43mmin_dist\u001b[49m\u001b[38;5;241;43m=\u001b[39;49m\u001b[43md\u001b[49m\u001b[43m,\u001b[49m\u001b[43m \u001b[49m\u001b[43mrandom_state\u001b[49m\u001b[38;5;241;43m=\u001b[39;49m\u001b[38;5;241;43m42\u001b[39;49m\u001b[43m)\u001b[49m\u001b[38;5;241;43m.\u001b[39;49m\u001b[43mfit\u001b[49m\u001b[43m(\u001b[49m\u001b[43membeddings\u001b[49m\u001b[43m)\u001b[49m\n\u001b[1;32m    323\u001b[0m umap\u001b[38;5;241m.\u001b[39mplot\u001b[38;5;241m.\u001b[39mpoints(mapper, labels\u001b[38;5;241m=\u001b[39mlabels, width\u001b[38;5;241m=\u001b[39m\u001b[38;5;241m600\u001b[39m, height\u001b[38;5;241m=\u001b[39m\u001b[38;5;241m600\u001b[39m)\n\u001b[1;32m    324\u001b[0m plt\u001b[38;5;241m.\u001b[39mtight_layout()\n",
      "File \u001b[0;32m/scratch/users/k21066795/conda/torch_env/lib/python3.9/site-packages/umap/umap_.py:2359\u001b[0m, in \u001b[0;36mUMAP.fit\u001b[0;34m(self, X, y, force_all_finite)\u001b[0m\n\u001b[1;32m   2357\u001b[0m \u001b[38;5;66;03m# Handle all the optional arguments, setting default\u001b[39;00m\n\u001b[1;32m   2358\u001b[0m \u001b[38;5;28;01mif\u001b[39;00m \u001b[38;5;28mself\u001b[39m\u001b[38;5;241m.\u001b[39ma \u001b[38;5;129;01mis\u001b[39;00m \u001b[38;5;28;01mNone\u001b[39;00m \u001b[38;5;129;01mor\u001b[39;00m \u001b[38;5;28mself\u001b[39m\u001b[38;5;241m.\u001b[39mb \u001b[38;5;129;01mis\u001b[39;00m \u001b[38;5;28;01mNone\u001b[39;00m:\n\u001b[0;32m-> 2359\u001b[0m     \u001b[38;5;28mself\u001b[39m\u001b[38;5;241m.\u001b[39m_a, \u001b[38;5;28mself\u001b[39m\u001b[38;5;241m.\u001b[39m_b \u001b[38;5;241m=\u001b[39m \u001b[43mfind_ab_params\u001b[49m\u001b[43m(\u001b[49m\u001b[38;5;28;43mself\u001b[39;49m\u001b[38;5;241;43m.\u001b[39;49m\u001b[43mspread\u001b[49m\u001b[43m,\u001b[49m\u001b[43m \u001b[49m\u001b[38;5;28;43mself\u001b[39;49m\u001b[38;5;241;43m.\u001b[39;49m\u001b[43mmin_dist\u001b[49m\u001b[43m)\u001b[49m\n\u001b[1;32m   2360\u001b[0m \u001b[38;5;28;01melse\u001b[39;00m:\n\u001b[1;32m   2361\u001b[0m     \u001b[38;5;28mself\u001b[39m\u001b[38;5;241m.\u001b[39m_a \u001b[38;5;241m=\u001b[39m \u001b[38;5;28mself\u001b[39m\u001b[38;5;241m.\u001b[39ma\n",
      "File \u001b[0;32m/scratch/users/k21066795/conda/torch_env/lib/python3.9/site-packages/umap/umap_.py:1397\u001b[0m, in \u001b[0;36mfind_ab_params\u001b[0;34m(spread, min_dist)\u001b[0m\n\u001b[1;32m   1395\u001b[0m xv \u001b[38;5;241m=\u001b[39m np\u001b[38;5;241m.\u001b[39mlinspace(\u001b[38;5;241m0\u001b[39m, spread \u001b[38;5;241m*\u001b[39m \u001b[38;5;241m3\u001b[39m, \u001b[38;5;241m300\u001b[39m)\n\u001b[1;32m   1396\u001b[0m yv \u001b[38;5;241m=\u001b[39m np\u001b[38;5;241m.\u001b[39mzeros(xv\u001b[38;5;241m.\u001b[39mshape)\n\u001b[0;32m-> 1397\u001b[0m yv[\u001b[43mxv\u001b[49m\u001b[43m \u001b[49m\u001b[38;5;241;43m<\u001b[39;49m\u001b[43m \u001b[49m\u001b[43mmin_dist\u001b[49m] \u001b[38;5;241m=\u001b[39m \u001b[38;5;241m1.0\u001b[39m\n\u001b[1;32m   1398\u001b[0m yv[xv \u001b[38;5;241m>\u001b[39m\u001b[38;5;241m=\u001b[39m min_dist] \u001b[38;5;241m=\u001b[39m np\u001b[38;5;241m.\u001b[39mexp(\u001b[38;5;241m-\u001b[39m(xv[xv \u001b[38;5;241m>\u001b[39m\u001b[38;5;241m=\u001b[39m min_dist] \u001b[38;5;241m-\u001b[39m min_dist) \u001b[38;5;241m/\u001b[39m spread)\n\u001b[1;32m   1399\u001b[0m params, covar \u001b[38;5;241m=\u001b[39m curve_fit(curve, xv, yv)\n",
      "\u001b[0;31mTypeError\u001b[0m: '<' not supported between instances of 'float' and 'NoneType'"
     ]
    },
    {
     "data": {
      "text/plain": [
       "<Figure size 1000x1000 with 0 Axes>"
      ]
     },
     "metadata": {},
     "output_type": "display_data"
    }
   ],
   "source": [
    "model_name = 'iBOT'\n",
    "sample_num = 50000\n",
    "\n",
    "show_Umap_norm_aug(model_name, rootdir, sample_num)"
   ]
  },
  {
   "cell_type": "code",
   "execution_count": null,
   "id": "2b1c7dcf-3a6c-47c3-9091-23145255f5b4",
   "metadata": {},
   "outputs": [],
   "source": [
    "model_name = 'UNI'\n",
    "sample_num = 50000\n",
    "\n",
    "show_Umap_norm_aug(model_name, rootdir, sample_num)"
   ]
  },
  {
   "cell_type": "markdown",
   "id": "e7061528-a6c2-4bd3-9305-a1a0cba09af1",
   "metadata": {},
   "source": [
    "#--------------------------Examples of stain augmentation ----------------------------#"
   ]
  },
  {
   "cell_type": "code",
   "execution_count": null,
   "id": "b9e8824a-7df5-4216-804a-600164221dc7",
   "metadata": {},
   "outputs": [],
   "source": [
    "\"\"\"\n",
    "Usage1: Demo(for visualization)\n",
    "\"\"\"\n",
    "augmentor = RandStainNA(\n",
    "    yaml_file = '../RandStainNA/CRC_LAB_randomTrue_n0.yaml',\n",
    "    std_hyper = 0.0,\n",
    "    distribution = 'normal',\n",
    "    probability = 1.0,\n",
    "    is_train = True\n",
    ")\n",
    "# img:is_train:false——>np.array()(cv2.imread()) #BGR\n",
    "# img:is_train:True——>PIL.Image #RGB\n",
    "\n",
    "print(augmentor)"
   ]
  },
  {
   "cell_type": "code",
   "execution_count": null,
   "id": "4102e760-2ab6-4526-b2b4-6ab5b4c4c68f",
   "metadata": {},
   "outputs": [],
   "source": [
    "img_path_list = [\n",
    "    '../RandStainNA/visualization/origin/TUM-AEPINLNQ.png',\n",
    "    '../RandStainNA/visualization/origin/TUM-DFGFFNEY.png',\n",
    "    '../RandStainNA/visualization/origin/TUM-EWFNFSQL.png',\n",
    "    '../RandStainNA/visualization/origin/TUM-TCGA-CVATFAAT.png'\n",
    "]\n",
    "\n",
    "origimgs = []\n",
    "for i in img_path_list:\n",
    "    origimgs.append(Image.open(i))\n",
    "\n",
    "plot_multiple(origimgs, ['','','',''], 2,2 ,figure_size=(5,5), cmap='tab20')"
   ]
  },
  {
   "cell_type": "code",
   "execution_count": null,
   "id": "2e854800-8386-4180-a99b-a6baf98dd661",
   "metadata": {},
   "outputs": [],
   "source": [
    "augimgs = []\n",
    "\n",
    "for img_path in img_path_list:\n",
    "    img = augmentor(Image.open(img_path))\n",
    "    augimgs.append(img)\n",
    "    \n",
    "plot_multiple(augimgs, ['','','',''], 2,2 ,figure_size=(5,5), cmap='tab20')"
   ]
  },
  {
   "cell_type": "markdown",
   "id": "44274add-5982-457d-a2f5-9d34517b7213",
   "metadata": {},
   "source": [
    "#-------------------------- prepare external testing ----------------------------#"
   ]
  },
  {
   "cell_type": "code",
   "execution_count": 90,
   "id": "a4b5f3b2-e6e0-46c3-941b-e6ae62a6216f",
   "metadata": {},
   "outputs": [],
   "source": [
    "rootdir = '/scratch/prj/cb_normalbreast/Siyuan/prj_normal/BreastAgeNet/RootDir/KHP_RM' # containing .h5 features\n",
    "clinic = '/scratch/prj/cb_normalbreast/Siyuan/prj_normal/BreastAgeNet/DATA/KHP_clinic.csv' # containing age group\n",
    "stainFunc = 'normalisation'"
   ]
  },
  {
   "cell_type": "code",
   "execution_count": 91,
   "id": "5d924c85-453c-44ea-b407-c197c06c4c02",
   "metadata": {},
   "outputs": [
    {
     "data": {
      "text/plain": [
       "219"
      ]
     },
     "execution_count": 91,
     "metadata": {},
     "output_type": "execute_result"
    }
   ],
   "source": [
    "files = []\n",
    "for wsiname in os.listdir(rootdir):\n",
    "    folder = os.path.join(rootdir, wsiname)\n",
    "    pt = glob.glob(f\"{folder}/*_TC*mask.npy\")\n",
    "    if len(pt)>0:\n",
    "        files.append(pt[0])\n",
    "\n",
    "len(files)"
   ]
  },
  {
   "cell_type": "code",
   "execution_count": 92,
   "id": "b7644011-3707-49d7-ad5f-06634b153819",
   "metadata": {},
   "outputs": [
    {
     "data": {
      "text/plain": [
       "219"
      ]
     },
     "execution_count": 92,
     "metadata": {},
     "output_type": "execute_result"
    }
   ],
   "source": [
    "files = []\n",
    "for wsiname in os.listdir(rootdir):\n",
    "    folder = os.path.join(rootdir, wsiname)\n",
    "    pt = glob.glob(f\"{folder}/*_patch.csv\")\n",
    "    if len(pt)>0:\n",
    "        files.append(pt[0])\n",
    "\n",
    "len(files)"
   ]
  },
  {
   "cell_type": "code",
   "execution_count": 95,
   "id": "b7dcfb66-b452-47bc-8dba-25a58088bdbb",
   "metadata": {},
   "outputs": [
    {
     "data": {
      "text/plain": [
       "197"
      ]
     },
     "execution_count": 95,
     "metadata": {},
     "output_type": "execute_result"
    }
   ],
   "source": [
    "files = []\n",
    "for wsiname in os.listdir(rootdir):\n",
    "    folder = os.path.join(rootdir, wsiname)\n",
    "    pt = glob.glob(f\"{folder}/*_reinhard.h5\")\n",
    "    if len(pt)>0:\n",
    "        files.extend(pt)\n",
    "\n",
    "len(files)"
   ]
  },
  {
   "cell_type": "code",
   "execution_count": 77,
   "id": "ac027bb2-6fd7-4088-9373-3f47deef9a0a",
   "metadata": {},
   "outputs": [],
   "source": [
    "rootdir = '/scratch/prj/cb_normalbreast/Siyuan/prj_normal/BreastAgeNet/RootDir/KHP_RRM' # containing .h5 features\n",
    "clinic = '/scratch/prj/cb_normalbreast/Siyuan/prj_normal/BreastAgeNet/DATA/KHP_clinic.csv' # containing age group\n",
    "stainFunc = 'normalisation'"
   ]
  },
  {
   "cell_type": "code",
   "execution_count": 86,
   "id": "de96f5f1-9357-46b4-b661-11700930e0ab",
   "metadata": {},
   "outputs": [
    {
     "data": {
      "text/plain": [
       "66"
      ]
     },
     "execution_count": 86,
     "metadata": {},
     "output_type": "execute_result"
    }
   ],
   "source": [
    "files = []\n",
    "for wsiname in os.listdir(rootdir):\n",
    "    folder = os.path.join(rootdir, wsiname)\n",
    "    pt = glob.glob(f\"{folder}/*_TC*mask.npy\")\n",
    "    if len(pt)>0:\n",
    "        files.append(pt[0])\n",
    "\n",
    "len(files)"
   ]
  },
  {
   "cell_type": "code",
   "execution_count": 87,
   "id": "8262ebad-e968-434c-84fc-9be9d7378681",
   "metadata": {},
   "outputs": [
    {
     "data": {
      "text/plain": [
       "0"
      ]
     },
     "execution_count": 87,
     "metadata": {},
     "output_type": "execute_result"
    }
   ],
   "source": [
    "files = []\n",
    "for wsiname in os.listdir(rootdir):\n",
    "    folder = os.path.join(rootdir, wsiname)\n",
    "    pt = glob.glob(f\"{folder}/*_patch.csv\")\n",
    "    if len(pt)>0:\n",
    "        files.append(pt[0])\n",
    "\n",
    "len(files)"
   ]
  },
  {
   "cell_type": "code",
   "execution_count": 82,
   "id": "05d5c6ae-0975-42e1-8b79-30e7b020bac9",
   "metadata": {},
   "outputs": [],
   "source": [
    "rootdir = '/scratch/prj/cb_normalbreast/Siyuan/prj_normal/BreastAgeNet/RootDir/NKI' # containing .h5 features\n",
    "clinic = '/scratch/prj/cb_normalbreast/Siyuan/prj_normal/BreastAgeNet/DATA/clinicData/NKI_clinic.csv' # containing age group\n",
    "stainFunc = 'normalisation'"
   ]
  },
  {
   "cell_type": "code",
   "execution_count": 83,
   "id": "5a969c1d-d559-4f38-9be4-b67127ade803",
   "metadata": {},
   "outputs": [
    {
     "data": {
      "text/plain": [
       "156"
      ]
     },
     "execution_count": 83,
     "metadata": {},
     "output_type": "execute_result"
    }
   ],
   "source": [
    "files = []\n",
    "for wsiname in os.listdir(rootdir):\n",
    "    folder = os.path.join(rootdir, wsiname)\n",
    "    pt = glob.glob(f\"{folder}/*_TC*mask.npy\")\n",
    "    if len(pt)>0:\n",
    "        files.append(pt[0])\n",
    "\n",
    "len(files)"
   ]
  },
  {
   "cell_type": "code",
   "execution_count": 84,
   "id": "fa9c3308-9a8c-4009-a22e-f7880e0fc245",
   "metadata": {},
   "outputs": [],
   "source": [
    "rootdir = '/scratch/prj/cb_normalbreast/Siyuan/prj_normal/BreastAgeNet/RootDir/BCI' # containing .h5 features\n",
    "clinic = '/scratch/prj/cb_normalbreast/Siyuan/prj_normal/BreastAgeNet/DATA/clinicData/NKI_clinic.csv' # containing age group\n",
    "stainFunc = 'normalisation'"
   ]
  },
  {
   "cell_type": "code",
   "execution_count": 85,
   "id": "f14d0f2e-2648-4761-9b82-2d6325295029",
   "metadata": {},
   "outputs": [
    {
     "data": {
      "text/plain": [
       "66"
      ]
     },
     "execution_count": 85,
     "metadata": {},
     "output_type": "execute_result"
    }
   ],
   "source": [
    "files = []\n",
    "for wsiname in os.listdir(rootdir):\n",
    "    folder = os.path.join(rootdir, wsiname)\n",
    "    pt = glob.glob(f\"{folder}/*_TC*mask.npy\")\n",
    "    if len(pt)>0:\n",
    "        files.append(pt[0])\n",
    "\n",
    "len(files)"
   ]
  }
 ],
 "metadata": {
  "kernelspec": {
   "display_name": "torch_env",
   "language": "python",
   "name": "torch_env"
  },
  "language_info": {
   "codemirror_mode": {
    "name": "ipython",
    "version": 3
   },
   "file_extension": ".py",
   "mimetype": "text/x-python",
   "name": "python",
   "nbconvert_exporter": "python",
   "pygments_lexer": "ipython3",
   "version": "3.9.12"
  }
 },
 "nbformat": 4,
 "nbformat_minor": 5
}
