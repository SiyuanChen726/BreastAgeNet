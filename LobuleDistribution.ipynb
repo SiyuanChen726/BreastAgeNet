{
 "cells": [
  {
   "cell_type": "code",
   "execution_count": 1,
   "id": "fce5ed71-9005-4146-89f7-2f78998452e6",
   "metadata": {},
   "outputs": [
    {
     "name": "stderr",
     "output_type": "stream",
     "text": [
      "/scratch/users/k21066795/conda/torch_env/lib/python3.9/site-packages/dask/dataframe/_pyarrow_compat.py:17: FutureWarning: Minimal version of pyarrow will soon be increased to 14.0.1. You are using 12.0.1. Please consider upgrading.\n",
      "  warnings.warn(\n",
      "/scratch/users/k21066795/conda/torch_env/lib/python3.9/site-packages/umap/plot.py:203: NumbaDeprecationWarning: \u001b[1mThe keyword argument 'nopython=False' was supplied. From Numba 0.59.0 the default is being changed to True and use of 'nopython=False' will raise a warning as the argument will have no effect. See https://numba.readthedocs.io/en/stable/reference/deprecation.html#deprecation-of-object-mode-fall-back-behaviour-when-using-jit for details.\u001b[0m\n",
      "  @numba.jit(nopython=False)\n"
     ]
    }
   ],
   "source": [
    "import os\n",
    "import sys\n",
    "sys.path.append('/scratch/users/k21066795/prj_normal/RandStainNA')\n",
    "from randstainna import RandStainNA\n",
    "\n",
    "import glob\n",
    "import h5py\n",
    "import random\n",
    "from PIL import Image\n",
    "from tqdm import tqdm\n",
    "import numpy as np\n",
    "import pandas as pd\n",
    "import matplotlib.pyplot as plt\n",
    "import torch\n",
    "\n",
    "from randstainna import RandStainNA\n",
    "\n",
    "import cv2\n",
    "from utils_data import add_ageGroup\n",
    "from utils_features import ensemble_feas_labels, labelingFeature, CSVDataset_WSI, get_model, extract_features, sampeled_UMP\n",
    "from utils import plot_multiple, plot_oneline\n",
    "\n",
    "\n",
    "def ROIs_per_mm2(wsiname, WSIs, WSI_QC, rootdir):\n",
    "    '''\n",
    "    given a wsi, calculate the tissue area, number of ROIs detected per mm^2, and percentage of epithelium/tissue area (%)\n",
    "    '''\n",
    "    folder = os.path.join(WSI_QC, wsiname+'.ndpi')\n",
    "    mask_pt = [i for i in os.listdir(folder) if '_mask_use.npy' in i]\n",
    "    mask_pt = os.path.join(WSI_QC, wsiname+'.ndpi', mask_pt[0])\n",
    "    mask = np.load(mask_pt)\n",
    "    \n",
    "    wsi_pt = os.path.join(WSIs, wsiname+\".ndpi\")\n",
    "    wsi = openslide.OpenSlide(wsi_pt)\n",
    "    scale_factor = wsi.level_dimensions[0][1] // mask.shape[0]\n",
    "    print(f'scale_factor: {scale_factor}')\n",
    "    mpp = wsi.properties['openslide.mpp-y'] # um/pixel\n",
    "    wsi_area = np.sum(mask) * scale_factor * scale_factor * float(mpp)*0.001 * float(mpp) * 0.001 # mm^2\n",
    "    \n",
    "    print(f'wsi_area: {wsi_area}')\n",
    "\n",
    "    csv_folder = os.path.join(rootdir, wsiname)\n",
    "    csv_pt = glob.glob(f\"{csv_folder}/*_patch_merge.csv\")[0]\n",
    "    csv_df = pd.read_csv(csv_pt)\n",
    "    patient_age = np.unique(csv_df['age'])[0]\n",
    "    patient_id = np.unique(csv_df['patient_id'])[0]\n",
    "    wsi_id = np.unique(csv_df['wsi_id'])[0]\n",
    "    \n",
    "    print(f'patient_age: {patient_age}')\n",
    "\n",
    "    ROI_num = len(np.unique(csv_df['roi_id']))\n",
    "    ROI_adjust = np.around(ROI_num/wsi_area, 3)\n",
    "    print(f'ROI_count_adjust: {ROI_adjust} lobules per mm^2')\n",
    "    \n",
    "\n",
    "    epi_num = np.sum(csv_df['cls']=='epithelium')\n",
    "    epi_area_mm2 = epi_num * 128 * 128 *0.001 *0.001\n",
    "    epi_percent = np.around(epi_area_mm2/wsi_area, 3) # percentage of epithelium on the slide\n",
    "    \n",
    "    print(f'epi_count_adjust: {epi_adjust} epithelium patches per mm^2')\n",
    "      \n",
    "    return patient_id, wsi_id, ROI_adjust, epi_percent, patient_age\n"
   ]
  },
  {
   "cell_type": "code",
   "execution_count": null,
   "id": "349f3699-1dbc-45c8-88f6-80ad78ea230f",
   "metadata": {},
   "outputs": [],
   "source": [
    "# paths\n",
    "WSIs = '/scratch/prj/cb_normalbreast/Siyuan/prj_normal/BreastAgeNet/WSIs/KHP_RM'  # where to get WSIs???\n",
    "WSI_QC = '/scratch/prj/cb_normalbreast/Siyuan/prj_normal/BreastAgeNet/WSI_QC/KHP_RM'  # where to get WSIs???\n",
    "rootdir = '/scratch/prj/cb_normalbreast/Siyuan/prj_normal/BreastAgeNet/RootDir/KHP_RM' # where to get _patch.csv, .h5 files\n",
    "clinic = '/scratch/prj/cb_normalbreast/Siyuan/prj_normal/BreastAgeNet/DATA' # where to get clinic.csv\n",
    "ResultDir = '/scratch/prj/cb_normalbreast/Siyuan/prj_normal/BreastAgeNet/Results/'"
   ]
  },
  {
   "cell_type": "markdown",
   "id": "ca32c441-f0b9-4267-857e-652f4e20305f",
   "metadata": {},
   "source": [
    "#--------------------------check clinic----------------------------#\n",
    "check distribution of patients in three age groups\n",
    "usual-risk: middle highest\n",
    "high-risk: ?? highest\n",
    "\n",
    "density plot, age moves to left"
   ]
  },
  {
   "cell_type": "code",
   "execution_count": null,
   "id": "7e78456c-1f3b-48fa-8a56-59ac29f3cd40",
   "metadata": {},
   "outputs": [],
   "source": [
    "# get KHP_RM df\n",
    "KHP_pt = glob.glob(f\"{clinic}/*KHP*\")[0]\n",
    "KHP_RM = pd.read_csv(KHP_pt)\n",
    "KHP_RM = add_ageGroup(KHP_RM) # add categorical age group based on patients' age\n",
    "KHP_RM = KHP_RM.loc[KHP_RM['source']=='RM'] # only get RM patients\n",
    "_, counts = np.unique(KHP_RM['age_group'], return_counts=True)\n",
    "m, y, o = counts\n",
    "print(f\"percentage of patients in each group \\n <30y: {y}  30-50y: {m}  >50y {o}\")\n"
   ]
  },
  {
   "cell_type": "code",
   "execution_count": null,
   "id": "206c44d9-fdb0-4764-b540-296f7ddb2283",
   "metadata": {},
   "outputs": [],
   "source": [
    "# get KHP_RRM df\n",
    "KHP_pt = glob.glob(f\"{clinic}/*KHP*\")[0]\n",
    "KHP_RRM = pd.read_csv(KHP_pt)\n",
    "KHP_RRM = add_ageGroup(KHP_RRM) # add categorical age group based on patients' age\n",
    "KHP_RRM = KHP_RRM.loc[KHP_RRM['source']=='RRM'] # only get RM patients\n",
    "_, counts = np.unique(KHP_RRM['age_group'], return_counts=True)\n",
    "m, y, o = counts\n",
    "print(f\"percentage of patients in each group \\n <30y: {y}  30-50y: {m}  >50y {o}\")"
   ]
  },
  {
   "cell_type": "code",
   "execution_count": null,
   "id": "3024a588-aa12-46da-8126-af698dddfc96",
   "metadata": {},
   "outputs": [],
   "source": [
    "# get SGK_healthy\n",
    "SGK_healthy_pt = glob.glob(f\"{clinic}/*SGK*\")[0]\n",
    "SGK_healthy = pd.read_csv(SGK_healthy_pt)\n",
    "SGK_healthy = add_ageGroup(SGK_healthy) # add categorical age group based on patients' age\n",
    "# SGK_healthy = SGK_healthy.loc[SGK_healthy['source']=='RM'] # only get RM patients\n",
    "print(np.unique(SGK_healthy['age_group'], return_counts=True)) # check patient's age group distribution"
   ]
  },
  {
   "cell_type": "code",
   "execution_count": null,
   "id": "49e10593-e06d-4fa9-8c17-ebf674ab8414",
   "metadata": {},
   "outputs": [],
   "source": [
    "# get BCI\n",
    "BCI = pd.read_csv(f'{clinic}/BCI_clinic.csv')\n",
    "BCI = add_ageGroup(BCI)\n",
    "_, counts = np.unique(BCI['age_group'], return_counts=True)\n",
    "m, y, o = counts\n",
    "print(f\"percentage of patients in each group \\n <30y: {y}  30-50y: {m}  >50y {o}\")"
   ]
  },
  {
   "cell_type": "code",
   "execution_count": null,
   "id": "411b7110-7848-42f3-b5a8-2fd51f8a50f2",
   "metadata": {},
   "outputs": [],
   "source": [
    "BCI"
   ]
  },
  {
   "cell_type": "code",
   "execution_count": null,
   "id": "48aed134-25af-4db1-9e34-a41ce36aec76",
   "metadata": {},
   "outputs": [],
   "source": [
    "BCI.groupby(['source', 'age_group'])['patient_id'].count()\n",
    "\n",
    "BCI['source2'] = BCI['source']\n",
    "\n",
    "BCI.loc[BCI['source2'] == 'Ipsilateral', 'source2'] = 'Cancer'\n",
    "\n",
    "\n",
    "# BCI.groupby(['source', 'age_group'])['patient_id'].count()\n",
    "BCI"
   ]
  },
  {
   "cell_type": "markdown",
   "id": "0aa03f31-b5e0-46e8-a325-0d29780c0b1a",
   "metadata": {},
   "source": [
    "#---------------check distributions of ROIsCount_mm2, epitheliumArea_mm2---------------------#"
   ]
  },
  {
   "cell_type": "code",
   "execution_count": null,
   "id": "7a0621d1-338b-4d22-9456-19fe083d4d21",
   "metadata": {},
   "outputs": [],
   "source": [
    "rootdir = '/scratch/prj/cb_normalbreast/Siyuan/prj_normal/BreastAgeNet/RootDir/SGK_healthy' # where to get _patch.csv, .h5 files\n",
    "slide_dir = '/scratch/prj/cb_normalbreast/Siyuan/prj_normal/BreastAgeNet/WSI_QC/SGK_healthy'\n",
    "\n",
    "\n",
    "csv_files = []\n",
    "TC_files = []\n",
    "h5_files = []\n",
    "for wsiname in os.listdir(rootdir):\n",
    "    wsiname = wsiname.split('.svs')[0]\n",
    "    folder = os.path.join(rootdir, wsiname)\n",
    "    \n",
    "    csv_pt = glob.glob(f\"{folder}/*_patch.csv\")\n",
    "    if len(csv_pt)>0:\n",
    "        csv_files.append(wsiname)\n",
    "\n",
    "    TC_pt = glob.glob(f\"{folder}/*_TCprobmask.npy\")\n",
    "    if len(TC_pt)>0:\n",
    "        TC_files.append(TC_pt[0])\n",
    "\n",
    "    h5_pt = glob.glob(f\"{folder}/*.h5\")\n",
    "    if len(h5_pt)>0:\n",
    "        h5_files.append(h5_pt[0])\n",
    "\n",
    "print(len(TC_files))\n",
    "print(len(csv_files))\n",
    "print(len(h5_files))"
   ]
  },
  {
   "cell_type": "code",
   "execution_count": null,
   "id": "b9c6ddd8-7c74-4914-80e1-c3812c0b0bc8",
   "metadata": {},
   "outputs": [],
   "source": [
    "rootdir = '/scratch/prj/cb_normalbreast/Siyuan/prj_normal/BreastAgeNet/RootDir/SGK_healthy'\n",
    "\n",
    "wsi_noTC = []\n",
    "for wsiname in os.listdir(rootdir):\n",
    "    wsiname = wsiname.split('.svs')[0]\n",
    "    folder = os.path.join(rootdir, wsiname)\n",
    "    TC_pt = glob.glob(f\"{folder}/*_TCprobmask.npy\")\n",
    "    if len(TC_pt) == 0:\n",
    "        wsi_noTC.append(wsiname)\n",
    "    "
   ]
  },
  {
   "cell_type": "code",
   "execution_count": null,
   "id": "08e939ac-02dc-4983-b2d1-0304acf120e5",
   "metadata": {},
   "outputs": [],
   "source": [
    "wsinames = []\n",
    "for wsiname in os.listdir(rootdir):\n",
    "    csv_folder = os.path.join(rootdir, wsiname.split('.ndpi')[0])\n",
    "    csv_pt = glob.glob(f\"{csv_folder}/*_patch_merge.csv\")\n",
    "    if len(csv_pt)>0:\n",
    "        wsinames.append(wsiname)\n",
    "\n",
    "\n",
    "roiDict = {'patient_id':[], 'wsi_id':[], 'ROIs_mm2': [], 'epi_percent':[], 'patient_ages': []}\n",
    "for wsiname in wsinames:\n",
    "    patient_id, wsi_id, ROI_adjust, epi_percent, patient_age = ROIs_per_mm2(wsiname, WSIs, WSI_QC, rootdir)\n",
    "    roiDict['patient_id'].append(patient_id)\n",
    "    roiDict['wsi_id'].append(wsi_id)\n",
    "    roiDict['ROIs_mm2'].append(ROI_adjust)\n",
    "    roiDict['epi_percent'].append(epi_percent)\n",
    "    roiDict['patient_ages'].append(patient_age)"
   ]
  },
  {
   "cell_type": "code",
   "execution_count": null,
   "id": "bc85257a-dea6-4a2c-9952-1a1e93fb110d",
   "metadata": {},
   "outputs": [],
   "source": [
    "import pandas as pd\n",
    "roiDict_df = pd.DataFrame.from_dict(roiDict)\n",
    "sorted_df = roiDict_df.sort_values(by='patient_ages')\n",
    "\n",
    "roiDict_mean_df = sorted_df[['patient_id','ROIs_mm2','epi_percent','patient_ages']].groupby('patient_id').mean().reset_index()\n",
    "roiDict_mean_df = roiDict_mean_df.sort_values(by='patient_ages')\n",
    "roiDict_mean_df['patient_id'] = roiDict_mean_df['patient_id'].astype(str)\n",
    "roiDict_mean_df.to_csv(f\"{ResultDir}/Tables/ROI_age_relation_KHP_RM.csv\", index=False)"
   ]
  },
  {
   "cell_type": "code",
   "execution_count": null,
   "id": "f6c8935c-71a3-4d02-917e-e550bb1e86ab",
   "metadata": {},
   "outputs": [],
   "source": [
    "plt.bar(roiDict_mean_df['patient_id'], roiDict_mean_df['ROIs_mm2'])"
   ]
  },
  {
   "cell_type": "code",
   "execution_count": null,
   "id": "d5801759-6611-47b1-baa9-2344aedac535",
   "metadata": {},
   "outputs": [],
   "source": [
    "plt.bar(roiDict_mean_df['patient_id'], roiDict_mean_df['epi_percent'])\n"
   ]
  },
  {
   "cell_type": "code",
   "execution_count": null,
   "id": "a5848d81-84df-4aeb-9e56-c39af7339487",
   "metadata": {},
   "outputs": [],
   "source": [
    "plt.bar(roiDict_mean_df['patient_id'], roiDict_mean_df['patient_ages'])\n"
   ]
  },
  {
   "cell_type": "markdown",
   "id": "15466c07-5878-4668-87ac-134adc1c250f",
   "metadata": {},
   "source": [
    "#--------------------------check mask----------------------------#"
   ]
  },
  {
   "cell_type": "code",
   "execution_count": null,
   "id": "79979052-349b-4893-94fd-d4cdfde01952",
   "metadata": {},
   "outputs": [],
   "source": [
    "wsiname = os.listdir(WSI_QC)[2]\n",
    "folder = os.path.join(WSI_QC, wsiname)\n",
    "mask_pt = [i for i in os.listdir(folder) if '_mask_use.npy' in i]\n",
    "mask_pt = os.path.join(WSI_QC, wsiname, mask_pt[0])\n",
    "mask = np.load(mask_pt)\n",
    "\n",
    "wsi_pt = os.path.join(WSIs, wsiname)\n",
    "wsi = openslide.OpenSlide(wsi_pt)\n",
    "mpp = wsi.properties['openslide.mpp-y'] # um/pixel\n",
    "\n",
    "np.sum(mask) * float(mpp)*0.001 * float(mpp) * 0.001 # 0.15 / mm^2"
   ]
  },
  {
   "cell_type": "code",
   "execution_count": null,
   "id": "b3118d03-602a-4eab-9e7e-5614046d70a2",
   "metadata": {},
   "outputs": [],
   "source": [
    "num_adjust = ROIs_per_mm2(wsiname, WSIs, WSI_QC, rootdir)"
   ]
  },
  {
   "cell_type": "code",
   "execution_count": null,
   "id": "64015abb-9757-4c76-a0a3-3ca2cb07b91b",
   "metadata": {},
   "outputs": [],
   "source": [
    "im = wsi.read_region((0,0), 5, wsi.level_dimensions[5]).convert('RGB')\n",
    "plt.imshow(mask)"
   ]
  },
  {
   "cell_type": "markdown",
   "id": "9fb3b964-0ac8-4952-81df-0f69e72efbf2",
   "metadata": {},
   "source": [
    "#--------------------------check lobule types----------------------------#"
   ]
  },
  {
   "cell_type": "code",
   "execution_count": null,
   "id": "6349dfcb-21d3-4da1-a72d-11111b7c522a",
   "metadata": {},
   "outputs": [],
   "source": [
    "# visualise lobule types on WSIs\n",
    "import cv2\n",
    "import json\n",
    "import openslide\n",
    "\n",
    "def generate_mask(wsi_path, anno_pt, scale_factor):\n",
    "    slide=openslide.OpenSlide(wsi_path)\n",
    "    with open(anno_pt, \"r\") as f:\n",
    "        shapes = json.load(f)\n",
    "    \n",
    "    # level = slide.level_count - 1\n",
    "    # scale_factor = 1/slide.level_downsamples[level]\n",
    "    # width, height = slide.level_dimensions[level]\n",
    "\n",
    "    width, height = slide.level_dimensions[0]\n",
    "    width, height = int(width * scale_factor), int(height * scale_factor)\n",
    "    \n",
    "    background = np.zeros((height, width, 3), np.uint8)\n",
    "    mask = np.full((height, width, 3), background, dtype=np.uint8)\n",
    "    \n",
    "    for shape in shapes[\"features\"]:\n",
    "        points = shape[\"geometry\"][\"coordinates\"][0]\n",
    "        points = np.array([(p[0], p[1]) for p in points])\n",
    "        points = points * scale_factor\n",
    "        points = points.astype(int)\n",
    "    \n",
    "        cls = shape[\"properties\"][\"classification\"][\"name\"]\n",
    "        if cls == \"3\":\n",
    "          color = (255, 0, 0)\n",
    "          mask = cv2.drawContours(mask, [points], -1, color=color, thickness=-1)\n",
    "          mask = cv2.fillPoly(mask, [points], color=color)\n",
    "        elif cls == \"2\":\n",
    "          color = (0, 255, 0)\n",
    "          mask = cv2.drawContours(mask, [points], -1, color=color, thickness=-1)\n",
    "          mask = cv2.fillPoly(mask, [points], color=color)\n",
    "        elif cls == \"1\":\n",
    "          color = (0, 0, 255)\n",
    "          mask = cv2.drawContours(mask, [points], -1, color=color, thickness=-1)\n",
    "          mask = cv2.fillPoly(mask, [points], color=color)\n",
    "        \n",
    "    return mask\n",
    "    "
   ]
  },
  {
   "cell_type": "code",
   "execution_count": null,
   "id": "e475efc1-707b-4081-8976-2aa89f84b50d",
   "metadata": {},
   "outputs": [],
   "source": [
    "# get wsi_ids\n",
    "annoDir = '/scratch/prj/cb_normalbreast/Siyuan/prj_normal/BreastAgeNet/Manual_anno/KHP_lobule'\n",
    "wsi_ids = [i.split('.geojson')[0] for i in os.listdir(annoDir)]\n",
    "wsi_pts = [glob.glob(f\"/scratch/prj/cb_normalbreast/Siyuan/prj_normal/BreastAgeNet/WSIs/KHP_RM/{wsiname}*.*\")[0] for wsiname in wsi_ids]\n",
    "wsi_pts.sort()\n",
    "wsi_pts"
   ]
  },
  {
   "cell_type": "code",
   "execution_count": null,
   "id": "f3b194d5-fcf2-4541-a2f9-39f14c742a00",
   "metadata": {},
   "outputs": [],
   "source": [
    "# get annotations\n",
    "anno_pts = [os.path.join(annoDir, i) for i in os.listdir(annoDir)]\n",
    "anno_pts.sort()\n",
    "anno_pts"
   ]
  },
  {
   "cell_type": "code",
   "execution_count": null,
   "id": "f549baad-902a-4090-b5ca-d3b28d6b0ded",
   "metadata": {},
   "outputs": [],
   "source": [
    "# get patch ids\n",
    "csvDir = \"/scratch/prj/cb_normalbreast/Siyuan/prj_normal/BreastAgeNet/RootDir/KHP_RM/\"\n",
    "wsi_ids = [i.split('.geojson')[0] for i in os.listdir(annoDir)]\n",
    "csv_pts = [f\"{csvDir}{wsi_id}/{wsi_id}_patch_merge.csv\" for wsi_id in wsi_ids]\n",
    "csv_pts.sort()\n",
    "csv_pts"
   ]
  },
  {
   "cell_type": "code",
   "execution_count": null,
   "id": "d8bbd17a-4114-4f7c-acbd-dfa1691f6a7f",
   "metadata": {},
   "outputs": [],
   "source": [
    "index = 15\n",
    "\n",
    "wsi_path = wsi_pts[index]\n",
    "anno_pt = anno_pts[index]\n",
    "csv_pt = csv_pts[index]\n",
    "print(wsi_path)\n",
    "print(anno_pt)\n",
    "print(csv_pt)"
   ]
  },
  {
   "cell_type": "code",
   "execution_count": null,
   "id": "78ebb83f-c7d7-4e22-9e73-784749973bf4",
   "metadata": {},
   "outputs": [],
   "source": [
    "def get_lobule_patches(patch_ids):\n",
    "    type1 = []\n",
    "    type2 = []\n",
    "    type3 = []\n",
    "    for patch_id in patch_ids:\n",
    "        grid_x, grid_y = patch_id.split(\"_\")[-3], patch_id.split(\"_\")[-2]\n",
    "        grid_x, grid_y = int(grid_x), int(grid_y)\n",
    "        value = tuple(mask_im[grid_y, grid_x, :])\n",
    "        if value == (255, 0, 0):\n",
    "            lobule = 'type3'\n",
    "            type3.append(patch_id)\n",
    "            \n",
    "        elif value == (0, 255, 0):\n",
    "            lobule = 'type2'\n",
    "            type2.append(patch_id)\n",
    "        \n",
    "        elif value == (0, 0, 255):\n",
    "            lobule = 'type1'\n",
    "            type1.append(patch_id)\n",
    "    return type1, type2, type3\n",
    "\n",
    "\n",
    "def parse_patch_id(patch_id):\n",
    "    wsiname = \"_\".join(patch_id.split(\"_\")[:3])\n",
    "    ROI_id = \"_\".join(patch_id.split(\"_\")[4:8])\n",
    "    gridx, gridy, patch_size = patch_id.split(\"_\")[-3:]\n",
    "    gridx, gridy, patch_size = int(gridx), int(gridy), int(patch_size)\n",
    "    \n",
    "    return wsiname, ROI_id, gridx, gridy, patch_size"
   ]
  },
  {
   "cell_type": "code",
   "execution_count": null,
   "id": "9a918d3c-99e8-451f-a681-25ec22a215d1",
   "metadata": {},
   "outputs": [],
   "source": [
    "df = pd.read_csv(csv_pt)\n",
    "print(f\"patient age: {np.unique(df['age'])}\")\n",
    "\n",
    "patch_ids = [i for i in df['patch_id']]\n",
    "type1, type2, type3 = get_lobule_patches(patch_ids)\n",
    "print(f\"type1: {len(type1)} type2: {len(type2)} type3: {len(type3)}\")\n",
    "\n",
    "together = len(type1) + len(type2) + len(type3)\n",
    "print(f\"type1: {len(type1)/together} type2: {len(type2)/together} type3: {len(type3)/together}\")"
   ]
  },
  {
   "cell_type": "code",
   "execution_count": null,
   "id": "2eed9155-2ad7-4d02-9e9a-6e328d300105",
   "metadata": {},
   "outputs": [],
   "source": [
    "index = random.sample(range(0, len(type3)), 12)\n",
    "imgs = []\n",
    "for i in index:\n",
    "    patch_id = type3[i]\n",
    "    wsiname, ROI_id, gridx, gridy, patch_size = parse_patch_id(patch_id)\n",
    "    im = wsi.read_region((int(gridx*patch_size), int(gridy*patch_size)), 0, (patch_size, patch_size)).convert('RGB')\n",
    "    imgs.append(im)\n",
    "\n",
    "plot_multiple(imgs, ['type3']*12, 3,4, (10,5), 'tab20')"
   ]
  },
  {
   "cell_type": "code",
   "execution_count": null,
   "id": "cece9eba-f33c-408e-97f7-2e1d9f2fae71",
   "metadata": {},
   "outputs": [],
   "source": [
    "index = random.sample(range(0, len(type2)), 12)\n",
    "imgs = []\n",
    "for i in index:\n",
    "    patch_id = type2[i]\n",
    "    wsiname, ROI_id, gridx, gridy, patch_size = parse_patch_id(patch_id)\n",
    "    im = wsi.read_region((int(gridx*patch_size), int(gridy*patch_size)), 0, (patch_size, patch_size)).convert('RGB')\n",
    "    imgs.append(im)\n",
    "\n",
    "plot_multiple(imgs, ['type2']*12, 3,4, (10, 5), 'tab20')"
   ]
  },
  {
   "cell_type": "code",
   "execution_count": null,
   "id": "1aaf9756-2267-43dd-bbdd-9c190a3a7053",
   "metadata": {},
   "outputs": [],
   "source": [
    "index = random.sample(range(0, len(type1)), 12)\n",
    "imgs = []\n",
    "for i in index:\n",
    "    patch_id = type2[i]\n",
    "    wsiname, ROI_id, gridx, gridy, patch_size = parse_patch_id(patch_id)\n",
    "    im = wsi.read_region((int(gridx*patch_size), int(gridy*patch_size)), 0, (patch_size, patch_size)).convert('RGB')\n",
    "    imgs.append(im)\n",
    "\n",
    "plot_multiple(imgs, ['type1']*12, 3,4, (10, 5), 'tab20')"
   ]
  },
  {
   "cell_type": "code",
   "execution_count": null,
   "id": "7c7d0f6d-8e60-46e3-9556-be3b75f44125",
   "metadata": {},
   "outputs": [],
   "source": [
    "# wsi_pts[10]\n",
    "# wsi_pts[3] 打不开？？？"
   ]
  },
  {
   "cell_type": "code",
   "execution_count": null,
   "id": "d1170c0b-19c7-4a4f-82a9-40246cfa2bb3",
   "metadata": {},
   "outputs": [],
   "source": [
    "wsi=openslide.OpenSlide(wsi_path)\n",
    "img = wsi.read_region((0,0), wsi.level_count-1, wsi.level_dimensions[wsi.level_count-1]).convert('RGB')\n",
    "\n",
    "scale_factor = 1 / float(patch_size)\n",
    "print(f\"scale_factor: {scale_factor}\")\n",
    "\n",
    "mask_im = generate_mask(wsi_path, anno_pt, scale_factor)\n",
    "\n",
    "plot_oneline(img_list=[img, mask_im], caption_list=['original WSI', 'lobule type'], \n",
    "             figure_size=(8,8), save_pt=None) # blue: type1; green: type2; red: type3"
   ]
  },
  {
   "cell_type": "code",
   "execution_count": null,
   "id": "cdf094ce-06e5-4e38-bed5-69d18410d8c5",
   "metadata": {},
   "outputs": [],
   "source": [
    "# get patch_ids within the annotations\n",
    "\n",
    "# mask is scale_factor\n",
    "# patch_id // scale_factor + patch_size // scale_factor // 2\n",
    "\n",
    "df = pd.read_csv(csv_pt)\n",
    "print(f\"patient age: {np.unique(df['age'])}\")\n",
    "\n",
    "patch_ids = [i for i in df['patch_id']]\n",
    "patch_ids"
   ]
  },
  {
   "cell_type": "code",
   "execution_count": null,
   "id": "b42b571c-c769-4da7-be22-b4e39d0c22d6",
   "metadata": {},
   "outputs": [],
   "source": [
    "# label patches as lobule type 1-3"
   ]
  },
  {
   "cell_type": "code",
   "execution_count": null,
   "id": "9da11258-b208-47b0-ac0d-f456c6679725",
   "metadata": {},
   "outputs": [],
   "source": [
    "# export csv file"
   ]
  }
 ],
 "metadata": {
  "kernelspec": {
   "display_name": "torch_env",
   "language": "python",
   "name": "torch_env"
  },
  "language_info": {
   "codemirror_mode": {
    "name": "ipython",
    "version": 3
   },
   "file_extension": ".py",
   "mimetype": "text/x-python",
   "name": "python",
   "nbconvert_exporter": "python",
   "pygments_lexer": "ipython3",
   "version": "3.9.12"
  }
 },
 "nbformat": 4,
 "nbformat_minor": 5
}
