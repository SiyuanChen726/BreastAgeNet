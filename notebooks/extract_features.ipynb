{
 "cells": [
  {
   "cell_type": "code",
   "execution_count": null,
   "id": "b86e3b90-2a45-455b-99a8-73951e92aef7",
   "metadata": {},
   "outputs": [],
   "source": [
    "import os\n",
    "import sys\n",
    "sys.path.append('/scratch_tmp/users/k21066795/BreastAgeNet')\n",
    "import pandas as pd\n",
    "from utils_features import *"
   ]
  },
  {
   "cell_type": "code",
   "execution_count": null,
   "id": "d85fbd48-d7e5-4897-b8a8-46210f97ed4c",
   "metadata": {},
   "outputs": [],
   "source": [
    "WSIs = '/scratch_tmp/prj/cb_normalbreast/prj_BreastAgeNet/WSIs'\n",
    "FEATURES = '/scratch_tmp/prj/cb_normalbreast/prj_BreastAgeNet/FEATURES'\n",
    "model_name = 'UNI'\n",
    "batch_size = 16\n",
    "num_workers = 2\n",
    "stainFunc = 'augmentation'\n",
    "device = torch.device('cuda') if torch.cuda.is_available() else torch.device('cpu')\n",
    "print(f\"device: {device}\", flush=True)\n",
    "model, transform = get_model(model_name, device)\n",
    "print(f\"Model: {model_name}\", flush=True)"
   ]
  },
  {
   "cell_type": "code",
   "execution_count": null,
   "id": "ff32d0c9-32fc-4f3e-a1d0-88dcd82095ee",
   "metadata": {
    "scrolled": true
   },
   "outputs": [],
   "source": [
    "# extract features from WSIs (e.g., \".ndpi\" files)\n",
    "wsinames = os.listdir(f\"{FEATURES}/KHP_RM\")\n",
    "for wsi_id in wsinames:\n",
    "    output_dir = f\"{FEATURES}/KHP_RM/{wsi_id}\"\n",
    "    fname = f\"{output_dir}/{wsi_id}_bagFeature_{model_name}_{stainFunc}.h5\"\n",
    "    if not os.path.exists(fname):\n",
    "        print(wsi_id)\n",
    "        file = glob.glob(f\"{FEATURES}/*/{wsi_id}*/{wsi_id}*_patch*.csv\")\n",
    "        if file:\n",
    "            print(file[0])\n",
    "            bag_df = pd.read_csv(file[0])\n",
    "            print(len(bag_df))\n",
    "            if len(bag_df)>0:\n",
    "                bag_dataset = Dataset_fromWSI(bag_df, WSIs, stainFunc, transforms_eval=transform)\n",
    "                extract_features(model, bag_dataset, batch_size, num_workers, device, fname)"
   ]
  },
  {
   "cell_type": "code",
   "execution_count": null,
   "id": "ead92197-5f73-4788-b1ae-3ace56b89949",
   "metadata": {},
   "outputs": [],
   "source": [
    "# extract features from Patches (e.g., \".png\" files)\n",
    "pt = f\"/scratch_tmp/prj/cb_normalbreast/prj_NBTClassifier/TC512_externaltesting_EPFL.csv\"\n",
    "df = pd.read_csv(pt)\n",
    "df[\"wsi_id\"] = [os.path.basename(i).split(\"_HE\")[0] for i in list(df['file_path'])]\n",
    "df[\"patch_id\"] = [os.path.basename(i).split(\".png\")[0] for i in list(df['file_path'])]\n",
    "print(len(df))\n",
    "# df = df.loc[df['TC_epi'] > 0.9, :].copy()\n",
    "# print(len(df))\n",
    "patch_df = df.copy()\n",
    "output_dir = \"/scratch_tmp/prj/cb_normalbreast/prj_BreastAgeNet/FEATURES/EPFL\"\n",
    "for wsi_id, bag_df in patch_df.groupby('wsi_id'):\n",
    "    print(f\"Processing WSI: {wsi_id}\", flush=True)\n",
    "    bag_dataset = Dataset_frompatch(bag_df, stainFunc, transform)\n",
    "    fname = f\"{output_dir}/{wsi_id}_bagFeature_{model_name}_{stainFunc}_embeddings.h5\"\n",
    "    extract_features(model, bag_dataset, batch_size, num_workers, device, fname)"
   ]
  }
 ],
 "metadata": {
  "kernelspec": {
   "display_name": "PyTorch Environment",
   "language": "python",
   "name": "torch-env"
  },
  "language_info": {
   "codemirror_mode": {
    "name": "ipython",
    "version": 3
   },
   "file_extension": ".py",
   "mimetype": "text/x-python",
   "name": "python",
   "nbconvert_exporter": "python",
   "pygments_lexer": "ipython3",
   "version": "3.10.16"
  }
 },
 "nbformat": 4,
 "nbformat_minor": 5
}
