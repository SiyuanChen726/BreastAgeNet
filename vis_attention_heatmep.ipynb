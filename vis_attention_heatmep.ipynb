{
 "cells": [
  {
   "cell_type": "code",
   "execution_count": 1,
   "id": "73c589eb-8376-4315-85be-8c25daad06e5",
   "metadata": {},
   "outputs": [],
   "source": [
    "import os\n",
    "import glob\n",
    "import openslide\n",
    "import h5py\n",
    "import random\n",
    "import numpy as np\n",
    "import pandas as pd\n",
    "from PIL import Image\n",
    "import matplotlib.pyplot as plt\n",
    "\n",
    "import numpy as np\n",
    "import pandas as pd\n",
    "from sklearn.manifold import TSNE\n",
    "import matplotlib.pyplot as plt\n",
    "\n",
    "\n",
    "import sys\n",
    "sys.path.append('/scratch/users/k21066795/prj_normal/RandStainNA')\n",
    "from randstainna import RandStainNA"
   ]
  },
  {
   "cell_type": "code",
   "execution_count": 59,
   "id": "08cabdda",
   "metadata": {},
   "outputs": [],
   "source": [
    "clinic_df = pd.read_csv(pt)\n",
    "clinic_df"
   ]
  },
  {
   "cell_type": "code",
   "execution_count": 49,
   "id": "d3e36940",
   "metadata": {},
   "outputs": [],
   "source": [
    "branch = 0\n",
    "vmin = None\n",
    "vmax = None\n",
    "wsi_id = \"17064241_FPE_7\" # 37, 35-45\n",
    "df =  get_WSIheatmap_df(wsi_id, clinic_df)\n",
    "img = get_branch_attn(df, branch, vmin, vmax, upscale_factor=1)\n",
    "show_WSI_attnMap(img, branch, vmin, vmax, cmap= \"viridis\", save_path=None)"
   ]
  },
  {
   "cell_type": "code",
   "execution_count": 57,
   "id": "fed2aa3d",
   "metadata": {},
   "outputs": [],
   "source": [
    "branch = 1\n",
    "vmin = None\n",
    "vmax = None\n",
    "wsi_id = \"17064241_FPE_7\" # 37, 35-45\n",
    "df =  get_WSIheatmap_df(wsi_id, clinic_df)\n",
    "img = get_branch_attn(df, branch, vmin, vmax, upscale_factor=1)\n",
    "show_WSI_attnMap(img, branch, vmin, vmax, cmap= \"viridis\", save_path=None)"
   ]
  },
  {
   "cell_type": "code",
   "execution_count": 58,
   "id": "777e6d8f",
   "metadata": {},
   "outputs": [],
   "source": [
    "branch = 2\n",
    "vmin = None\n",
    "vmax = None\n",
    "wsi_id = \"17064241_FPE_7\" # 37, 35-45\n",
    "df =  get_WSIheatmap_df(wsi_id, clinic_df)\n",
    "img = get_branch_attn(df, branch, vmin, vmax, upscale_factor=1)\n",
    "show_WSI_attnMap(img, branch, vmin, vmax, cmap= \"viridis\", save_path=None)"
   ]
  },
  {
   "cell_type": "code",
   "execution_count": null,
   "id": "b65204e5",
   "metadata": {},
   "outputs": [],
   "source": []
  }
 ],
 "metadata": {
  "kernelspec": {
   "display_name": "Python 3 (ipykernel)",
   "language": "python",
   "name": "python3"
  },
  "language_info": {
   "codemirror_mode": {
    "name": "ipython",
    "version": 3
   },
   "file_extension": ".py",
   "mimetype": "text/x-python",
   "name": "python",
   "nbconvert_exporter": "python",
   "pygments_lexer": "ipython3",
   "version": "3.9.13"
  }
 },
 "nbformat": 4,
 "nbformat_minor": 5
}
