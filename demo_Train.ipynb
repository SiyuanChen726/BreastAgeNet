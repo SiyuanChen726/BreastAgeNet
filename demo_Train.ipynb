{
 "cells": [
  {
   "cell_type": "markdown",
   "id": "03b0230e-9929-4149-852d-41b228d0a45d",
   "metadata": {},
   "source": [
    "# cross validation"
   ]
  },
  {
   "cell_type": "code",
   "execution_count": 1,
   "id": "f7f2c051-22fe-4be4-9dc1-28115580bab8",
   "metadata": {},
   "outputs": [],
   "source": [
    "import h5py\n",
    "import pandas as pd\n",
    "from tqdm import tqdm\n",
    "\n",
    "from fastai.vision.all import *\n",
    "from utils_data import add_ageGroup, get_patient_label\n",
    "\n",
    "from utils_data import split_data, MILBagTransform\n",
    "from sklearn.preprocessing import LabelEncoder\n",
    "from sklearn.model_selection import StratifiedKFold\n",
    "\n",
    "import torch.optim as optim\n",
    "from utils_model import MILModel\n",
    "from utils_train import train_model, test_model, EarlyStopping\n",
    "\n",
    "from sklearn import metrics\n",
    "from utils_train import get_dim_input, train_model, test_model\n"
   ]
  },
  {
   "cell_type": "code",
   "execution_count": 2,
   "id": "9189be75-02d4-477d-9dfc-7c91c1c1d666",
   "metadata": {},
   "outputs": [],
   "source": [
    "cls = ['epithelium', 'stroma'] # use embeddings of these specific class\n",
    "rootdir = '/scratch/prj/cb_normalbreast/Siyuan/prj_normal/BreastAgeNet/RootDir/SGK_healthy' # containing .h5 features\n",
    "clinic = '/scratch/prj/cb_normalbreast/Siyuan/prj_normal/BreastAgeNet/DATA/clinicData/SGK_2k.csv' # containing age group\n",
    "\n",
    "\n",
    "# -- use features extracted by {model_name} and processed by {stainFunc} for training -- #\n",
    "model_name = 'iBOT' \n",
    "stainFunc = 'augmentation'"
   ]
  },
  {
   "cell_type": "code",
   "execution_count": 3,
   "id": "db8d8e45-1b51-4f18-a7c8-b6ba1dd02b9e",
   "metadata": {},
   "outputs": [
    {
     "name": "stdout",
     "output_type": "stream",
     "text": [
      "This is fold 0\n",
      "------------------------------\n",
      "splitting data\n",
      "------------------------------\n",
      "preparing train/test patients, 0.9/0.1\n",
      "preparing train/val patients, 0.9/0.1\n",
      "adding is_valid and feaBag_pt columns...\n",
      "/scratch/prj/cb_normalbreast/Siyuan/prj_normal/BreastAgeNet/experiments/SGK_healthy/iBOT_augmentation/iBOT_augmentation_fold0_train.csv saved!\n",
      "/scratch/prj/cb_normalbreast/Siyuan/prj_normal/BreastAgeNet/experiments/SGK_healthy/iBOT_augmentation/iBOT_augmentation_fold0_test.csv saved!\n",
      "train_data\n",
      "age_group\n",
      "30-50y    329\n",
      ">50y      273\n",
      "<30y      130\n",
      "Name: count, dtype: int64\n",
      "val_data\n",
      "age_group\n",
      "30-50y    33\n",
      ">50y      27\n",
      "<30y      13\n",
      "Name: count, dtype: int64\n",
      "test_data\n",
      "age_group\n",
      "30-50y    83\n",
      ">50y      68\n",
      "<30y      32\n",
      "Name: count, dtype: int64\n",
      "creating dataloaders (path->tensor)\n",
      "------------------------------\n",
      "preparing attention-based MIL model...\n",
      "------------------------------\n",
      "preparing weighted loss function...\n",
      "------------------------------\n",
      "preparing optimizer\n",
      "------------------------------\n",
      "START TRAINING ...\n",
      "------------------------------\n",
      "0/99 epoch\n",
      "\n",
      "Training\n",
      "\n"
     ]
    },
    {
     "name": "stderr",
     "output_type": "stream",
     "text": [
      "100%|██████████| 164/164 [00:02<00:00, 60.97it/s]\n"
     ]
    },
    {
     "name": "stdout",
     "output_type": "stream",
     "text": [
      "<class 'float'> <class 'float'>\n",
      "\n",
      " train Loss: 1.0733  ACC: 0.4476\n",
      "Validation....\n",
      "\n"
     ]
    },
    {
     "name": "stderr",
     "output_type": "stream",
     "text": [
      "100%|██████████| 19/19 [00:00<00:00, 29.67it/s]\n"
     ]
    },
    {
     "name": "stdout",
     "output_type": "stream",
     "text": [
      "\n",
      " val Loss: 1.0591   ACC: 0.3836\n",
      "\n",
      "Validation loss decreased (inf --> 1.059117).  Saving model ...\n",
      "------------------------------\n",
      "1/99 epoch\n",
      "\n",
      "Training\n",
      "\n"
     ]
    },
    {
     "name": "stderr",
     "output_type": "stream",
     "text": [
      "100%|██████████| 164/164 [00:02<00:00, 76.61it/s] \n"
     ]
    },
    {
     "name": "stdout",
     "output_type": "stream",
     "text": [
      "<class 'float'> <class 'float'>\n",
      "\n",
      " train Loss: 0.9573  ACC: 0.5296\n",
      "Validation....\n",
      "\n"
     ]
    },
    {
     "name": "stderr",
     "output_type": "stream",
     "text": [
      "100%|██████████| 19/19 [00:00<00:00, 33.06it/s]\n"
     ]
    },
    {
     "name": "stdout",
     "output_type": "stream",
     "text": [
      "\n",
      " val Loss: 0.9028   ACC: 0.5753\n",
      "\n",
      "Validation loss decreased (1.059117 --> 0.902834).  Saving model ...\n",
      "------------------------------\n",
      "2/99 epoch\n",
      "\n",
      "Training\n",
      "\n"
     ]
    },
    {
     "name": "stderr",
     "output_type": "stream",
     "text": [
      "100%|██████████| 164/164 [00:02<00:00, 78.35it/s]\n"
     ]
    },
    {
     "name": "stdout",
     "output_type": "stream",
     "text": [
      "<class 'float'> <class 'float'>\n",
      "\n",
      " train Loss: 0.9008  ACC: 0.5675\n",
      "Validation....\n",
      "\n"
     ]
    },
    {
     "name": "stderr",
     "output_type": "stream",
     "text": [
      "100%|██████████| 19/19 [00:00<00:00, 29.89it/s]\n"
     ]
    },
    {
     "name": "stdout",
     "output_type": "stream",
     "text": [
      "\n",
      " val Loss: 0.8118   ACC: 0.6027\n",
      "\n",
      "Validation loss decreased (0.902834 --> 0.811776).  Saving model ...\n",
      "------------------------------\n",
      "3/99 epoch\n",
      "\n",
      "Training\n",
      "\n"
     ]
    },
    {
     "name": "stderr",
     "output_type": "stream",
     "text": [
      "100%|██████████| 164/164 [00:02<00:00, 79.84it/s] \n"
     ]
    },
    {
     "name": "stdout",
     "output_type": "stream",
     "text": [
      "<class 'float'> <class 'float'>\n",
      "\n",
      " train Loss: 0.8416  ACC: 0.61\n",
      "Validation....\n",
      "\n"
     ]
    },
    {
     "name": "stderr",
     "output_type": "stream",
     "text": [
      "100%|██████████| 19/19 [00:00<00:00, 30.58it/s]\n"
     ]
    },
    {
     "name": "stdout",
     "output_type": "stream",
     "text": [
      "\n",
      " val Loss: 0.81   ACC: 0.5616\n",
      "\n",
      "Validation loss decreased (0.811776 --> 0.810027).  Saving model ...\n",
      "------------------------------\n",
      "4/99 epoch\n",
      "\n",
      "Training\n",
      "\n"
     ]
    },
    {
     "name": "stderr",
     "output_type": "stream",
     "text": [
      "100%|██████████| 164/164 [00:02<00:00, 75.08it/s] \n"
     ]
    },
    {
     "name": "stdout",
     "output_type": "stream",
     "text": [
      "<class 'float'> <class 'float'>\n",
      "\n",
      " train Loss: 0.8069  ACC: 0.5979\n",
      "Validation....\n",
      "\n"
     ]
    },
    {
     "name": "stderr",
     "output_type": "stream",
     "text": [
      "100%|██████████| 19/19 [00:00<00:00, 32.34it/s]\n"
     ]
    },
    {
     "name": "stdout",
     "output_type": "stream",
     "text": [
      "\n",
      " val Loss: 0.8148   ACC: 0.6301\n",
      "\n",
      "EarlyStopping counter: 1 out of 5\n",
      "------------------------------\n",
      "5/99 epoch\n",
      "\n",
      "Training\n",
      "\n"
     ]
    },
    {
     "name": "stderr",
     "output_type": "stream",
     "text": [
      "100%|██████████| 164/164 [00:02<00:00, 77.07it/s]\n"
     ]
    },
    {
     "name": "stdout",
     "output_type": "stream",
     "text": [
      "<class 'float'> <class 'float'>\n",
      "\n",
      " train Loss: 0.7468  ACC: 0.6677\n",
      "Validation....\n",
      "\n"
     ]
    },
    {
     "name": "stderr",
     "output_type": "stream",
     "text": [
      "100%|██████████| 19/19 [00:00<00:00, 32.14it/s]\n"
     ]
    },
    {
     "name": "stdout",
     "output_type": "stream",
     "text": [
      "\n",
      " val Loss: 0.825   ACC: 0.6027\n",
      "\n",
      "EarlyStopping counter: 2 out of 5\n",
      "------------------------------\n",
      "6/99 epoch\n",
      "\n",
      "Training\n",
      "\n"
     ]
    },
    {
     "name": "stderr",
     "output_type": "stream",
     "text": [
      "100%|██████████| 164/164 [00:02<00:00, 76.97it/s] \n"
     ]
    },
    {
     "name": "stdout",
     "output_type": "stream",
     "text": [
      "<class 'float'> <class 'float'>\n",
      "\n",
      " train Loss: 0.6951  ACC: 0.6798\n",
      "Validation....\n",
      "\n"
     ]
    },
    {
     "name": "stderr",
     "output_type": "stream",
     "text": [
      "100%|██████████| 19/19 [00:00<00:00, 31.22it/s]\n"
     ]
    },
    {
     "name": "stdout",
     "output_type": "stream",
     "text": [
      "\n",
      " val Loss: 0.8949   ACC: 0.5753\n",
      "\n",
      "EarlyStopping counter: 3 out of 5\n",
      "------------------------------\n",
      "7/99 epoch\n",
      "\n",
      "Training\n",
      "\n"
     ]
    },
    {
     "name": "stderr",
     "output_type": "stream",
     "text": [
      "100%|██████████| 164/164 [00:02<00:00, 73.15it/s] \n"
     ]
    },
    {
     "name": "stdout",
     "output_type": "stream",
     "text": [
      "<class 'float'> <class 'float'>\n",
      "\n",
      " train Loss: 0.6424  ACC: 0.6844\n",
      "Validation....\n",
      "\n"
     ]
    },
    {
     "name": "stderr",
     "output_type": "stream",
     "text": [
      "100%|██████████| 19/19 [00:00<00:00, 32.90it/s]\n"
     ]
    },
    {
     "name": "stdout",
     "output_type": "stream",
     "text": [
      "\n",
      " val Loss: 0.9324   ACC: 0.5616\n",
      "\n",
      "EarlyStopping counter: 4 out of 5\n",
      "------------------------------\n",
      "8/99 epoch\n",
      "\n",
      "Training\n",
      "\n"
     ]
    },
    {
     "name": "stderr",
     "output_type": "stream",
     "text": [
      "100%|██████████| 164/164 [00:02<00:00, 74.83it/s] \n"
     ]
    },
    {
     "name": "stdout",
     "output_type": "stream",
     "text": [
      "<class 'float'> <class 'float'>\n",
      "\n",
      " train Loss: 0.5949  ACC: 0.7284\n",
      "Validation....\n",
      "\n"
     ]
    },
    {
     "name": "stderr",
     "output_type": "stream",
     "text": [
      "100%|██████████| 19/19 [00:00<00:00, 28.92it/s]\n"
     ]
    },
    {
     "name": "stdout",
     "output_type": "stream",
     "text": [
      "\n",
      " val Loss: 0.9331   ACC: 0.5342\n",
      "\n",
      "EarlyStopping counter: 5 out of 5\n",
      "------------------------------\n",
      "9/99 epoch\n",
      "\n",
      "Training\n",
      "\n"
     ]
    },
    {
     "name": "stderr",
     "output_type": "stream",
     "text": [
      "100%|██████████| 164/164 [00:02<00:00, 75.19it/s] \n"
     ]
    },
    {
     "name": "stdout",
     "output_type": "stream",
     "text": [
      "<class 'float'> <class 'float'>\n",
      "\n",
      " train Loss: 0.5081  ACC: 0.786\n",
      "Validation....\n",
      "\n"
     ]
    },
    {
     "name": "stderr",
     "output_type": "stream",
     "text": [
      "100%|██████████| 19/19 [00:00<00:00, 27.67it/s]\n"
     ]
    },
    {
     "name": "stdout",
     "output_type": "stream",
     "text": [
      "\n",
      " val Loss: 1.0399   ACC: 0.5205\n",
      "\n",
      "EarlyStopping counter: 6 out of 5\n",
      "------------------------------\n",
      "10/99 epoch\n",
      "\n",
      "Training\n",
      "\n"
     ]
    },
    {
     "name": "stderr",
     "output_type": "stream",
     "text": [
      "100%|██████████| 164/164 [00:02<00:00, 76.01it/s]\n"
     ]
    },
    {
     "name": "stdout",
     "output_type": "stream",
     "text": [
      "<class 'float'> <class 'float'>\n",
      "\n",
      " train Loss: 0.425  ACC: 0.8179\n",
      "Validation....\n",
      "\n"
     ]
    },
    {
     "name": "stderr",
     "output_type": "stream",
     "text": [
      "100%|██████████| 19/19 [00:00<00:00, 33.50it/s]\n"
     ]
    },
    {
     "name": "stdout",
     "output_type": "stream",
     "text": [
      "\n",
      " val Loss: 1.0648   ACC: 0.5342\n",
      "\n",
      "EarlyStopping counter: 7 out of 5\n",
      "------------------------------\n",
      "11/99 epoch\n",
      "\n",
      "Training\n",
      "\n"
     ]
    },
    {
     "name": "stderr",
     "output_type": "stream",
     "text": [
      "100%|██████████| 164/164 [00:02<00:00, 75.47it/s] \n"
     ]
    },
    {
     "name": "stdout",
     "output_type": "stream",
     "text": [
      "<class 'float'> <class 'float'>\n",
      "\n",
      " train Loss: 0.3963  ACC: 0.8361\n",
      "Validation....\n",
      "\n"
     ]
    },
    {
     "name": "stderr",
     "output_type": "stream",
     "text": [
      "100%|██████████| 19/19 [00:00<00:00, 30.34it/s]\n"
     ]
    },
    {
     "name": "stdout",
     "output_type": "stream",
     "text": [
      "\n",
      " val Loss: 1.0053   ACC: 0.5616\n",
      "\n",
      "EarlyStopping counter: 8 out of 5\n",
      "------------------------------\n",
      "12/99 epoch\n",
      "\n",
      "Training\n",
      "\n"
     ]
    },
    {
     "name": "stderr",
     "output_type": "stream",
     "text": [
      "100%|██████████| 164/164 [00:02<00:00, 76.83it/s]\n"
     ]
    },
    {
     "name": "stdout",
     "output_type": "stream",
     "text": [
      "<class 'float'> <class 'float'>\n",
      "\n",
      " train Loss: 0.3341  ACC: 0.8771\n",
      "Validation....\n",
      "\n"
     ]
    },
    {
     "name": "stderr",
     "output_type": "stream",
     "text": [
      "100%|██████████| 19/19 [00:00<00:00, 30.95it/s]\n"
     ]
    },
    {
     "name": "stdout",
     "output_type": "stream",
     "text": [
      "\n",
      " val Loss: 1.0377   ACC: 0.5753\n",
      "\n",
      "EarlyStopping counter: 9 out of 5\n",
      "------------------------------\n",
      "13/99 epoch\n",
      "\n",
      "Training\n",
      "\n"
     ]
    },
    {
     "name": "stderr",
     "output_type": "stream",
     "text": [
      "100%|██████████| 164/164 [00:02<00:00, 75.24it/s] \n"
     ]
    },
    {
     "name": "stdout",
     "output_type": "stream",
     "text": [
      "<class 'float'> <class 'float'>\n",
      "\n",
      " train Loss: 0.2908  ACC: 0.8816\n",
      "Validation....\n",
      "\n"
     ]
    },
    {
     "name": "stderr",
     "output_type": "stream",
     "text": [
      "100%|██████████| 19/19 [00:00<00:00, 30.12it/s]\n"
     ]
    },
    {
     "name": "stdout",
     "output_type": "stream",
     "text": [
      "\n",
      " val Loss: 1.1483   ACC: 0.5342\n",
      "\n",
      "EarlyStopping counter: 10 out of 5\n",
      "------------------------------\n",
      "14/99 epoch\n",
      "\n",
      "Training\n",
      "\n"
     ]
    },
    {
     "name": "stderr",
     "output_type": "stream",
     "text": [
      "100%|██████████| 164/164 [00:02<00:00, 76.46it/s]\n"
     ]
    },
    {
     "name": "stdout",
     "output_type": "stream",
     "text": [
      "<class 'float'> <class 'float'>\n",
      "\n",
      " train Loss: 0.2472  ACC: 0.9105\n",
      "Validation....\n",
      "\n"
     ]
    },
    {
     "name": "stderr",
     "output_type": "stream",
     "text": [
      "100%|██████████| 19/19 [00:00<00:00, 31.44it/s]\n"
     ]
    },
    {
     "name": "stdout",
     "output_type": "stream",
     "text": [
      "\n",
      " val Loss: 1.1348   ACC: 0.589\n",
      "\n",
      "EarlyStopping counter: 11 out of 5\n",
      "------------------------------\n",
      "15/99 epoch\n",
      "\n",
      "Training\n",
      "\n"
     ]
    },
    {
     "name": "stderr",
     "output_type": "stream",
     "text": [
      "100%|██████████| 164/164 [00:02<00:00, 78.54it/s]\n"
     ]
    },
    {
     "name": "stdout",
     "output_type": "stream",
     "text": [
      "<class 'float'> <class 'float'>\n",
      "\n",
      " train Loss: 0.2318  ACC: 0.9211\n",
      "Validation....\n",
      "\n"
     ]
    },
    {
     "name": "stderr",
     "output_type": "stream",
     "text": [
      "100%|██████████| 19/19 [00:00<00:00, 31.21it/s]\n"
     ]
    },
    {
     "name": "stdout",
     "output_type": "stream",
     "text": [
      "\n",
      " val Loss: 1.188   ACC: 0.5479\n",
      "\n",
      "EarlyStopping counter: 12 out of 5\n",
      "------------------------------\n",
      "16/99 epoch\n",
      "\n",
      "Training\n",
      "\n"
     ]
    },
    {
     "name": "stderr",
     "output_type": "stream",
     "text": [
      "100%|██████████| 164/164 [00:02<00:00, 76.25it/s]\n"
     ]
    },
    {
     "name": "stdout",
     "output_type": "stream",
     "text": [
      "<class 'float'> <class 'float'>\n",
      "\n",
      " train Loss: 0.186  ACC: 0.9332\n",
      "Validation....\n",
      "\n"
     ]
    },
    {
     "name": "stderr",
     "output_type": "stream",
     "text": [
      "100%|██████████| 19/19 [00:00<00:00, 31.21it/s]\n"
     ]
    },
    {
     "name": "stdout",
     "output_type": "stream",
     "text": [
      "\n",
      " val Loss: 1.1859   ACC: 0.6027\n",
      "\n",
      "EarlyStopping counter: 13 out of 5\n",
      "------------------------------\n",
      "17/99 epoch\n",
      "\n",
      "Training\n",
      "\n"
     ]
    },
    {
     "name": "stderr",
     "output_type": "stream",
     "text": [
      "100%|██████████| 164/164 [00:02<00:00, 77.74it/s] \n"
     ]
    },
    {
     "name": "stdout",
     "output_type": "stream",
     "text": [
      "<class 'float'> <class 'float'>\n",
      "\n",
      " train Loss: 0.168  ACC: 0.9439\n",
      "Validation....\n",
      "\n"
     ]
    },
    {
     "name": "stderr",
     "output_type": "stream",
     "text": [
      "100%|██████████| 19/19 [00:00<00:00, 32.40it/s]\n"
     ]
    },
    {
     "name": "stdout",
     "output_type": "stream",
     "text": [
      "\n",
      " val Loss: 1.5095   ACC: 0.5068\n",
      "\n",
      "EarlyStopping counter: 14 out of 5\n",
      "------------------------------\n",
      "18/99 epoch\n",
      "\n",
      "Training\n",
      "\n"
     ]
    },
    {
     "name": "stderr",
     "output_type": "stream",
     "text": [
      "100%|██████████| 164/164 [00:02<00:00, 80.24it/s] \n"
     ]
    },
    {
     "name": "stdout",
     "output_type": "stream",
     "text": [
      "<class 'float'> <class 'float'>\n",
      "\n",
      " train Loss: 0.1807  ACC: 0.9347\n",
      "Validation....\n",
      "\n"
     ]
    },
    {
     "name": "stderr",
     "output_type": "stream",
     "text": [
      "100%|██████████| 19/19 [00:00<00:00, 29.08it/s]\n"
     ]
    },
    {
     "name": "stdout",
     "output_type": "stream",
     "text": [
      "\n",
      " val Loss: 1.3461   ACC: 0.6164\n",
      "\n",
      "EarlyStopping counter: 15 out of 5\n",
      "------------------------------\n",
      "19/99 epoch\n",
      "\n",
      "Training\n",
      "\n"
     ]
    },
    {
     "name": "stderr",
     "output_type": "stream",
     "text": [
      "100%|██████████| 164/164 [00:02<00:00, 77.18it/s]\n"
     ]
    },
    {
     "name": "stdout",
     "output_type": "stream",
     "text": [
      "<class 'float'> <class 'float'>\n",
      "\n",
      " train Loss: 0.1442  ACC: 0.9575\n",
      "Validation....\n",
      "\n"
     ]
    },
    {
     "name": "stderr",
     "output_type": "stream",
     "text": [
      "100%|██████████| 19/19 [00:00<00:00, 30.20it/s]\n"
     ]
    },
    {
     "name": "stdout",
     "output_type": "stream",
     "text": [
      "\n",
      " val Loss: 1.6067   ACC: 0.5616\n",
      "\n",
      "EarlyStopping counter: 16 out of 5\n",
      "------------------------------\n",
      "20/99 epoch\n",
      "\n",
      "Training\n",
      "\n"
     ]
    },
    {
     "name": "stderr",
     "output_type": "stream",
     "text": [
      "100%|██████████| 164/164 [00:02<00:00, 75.96it/s] \n"
     ]
    },
    {
     "name": "stdout",
     "output_type": "stream",
     "text": [
      "<class 'float'> <class 'float'>\n",
      "\n",
      " train Loss: 0.0925  ACC: 0.9681\n",
      "Validation....\n",
      "\n"
     ]
    },
    {
     "name": "stderr",
     "output_type": "stream",
     "text": [
      "100%|██████████| 19/19 [00:00<00:00, 30.82it/s]\n"
     ]
    },
    {
     "name": "stdout",
     "output_type": "stream",
     "text": [
      "\n",
      " val Loss: 1.5035   ACC: 0.589\n",
      "\n",
      "EarlyStopping counter: 17 out of 5\n",
      "------------------------------\n",
      "21/99 epoch\n",
      "\n",
      "Training\n",
      "\n"
     ]
    },
    {
     "name": "stderr",
     "output_type": "stream",
     "text": [
      "100%|██████████| 164/164 [00:02<00:00, 77.15it/s] \n"
     ]
    },
    {
     "name": "stdout",
     "output_type": "stream",
     "text": [
      "<class 'float'> <class 'float'>\n",
      "\n",
      " train Loss: 0.0701  ACC: 0.9863\n",
      "Validation....\n",
      "\n"
     ]
    },
    {
     "name": "stderr",
     "output_type": "stream",
     "text": [
      "100%|██████████| 19/19 [00:00<00:00, 32.04it/s]\n"
     ]
    },
    {
     "name": "stdout",
     "output_type": "stream",
     "text": [
      "\n",
      " val Loss: 1.5859   ACC: 0.5616\n",
      "\n",
      "EarlyStopping counter: 18 out of 5\n",
      "------------------------------\n",
      "Training stop, the validation loss did not drop for 5 epochs!!!\n",
      "------------------------------\n",
      "Training completed in 1m 1s\n",
      "------------------------------\n",
      "START TESTING ...\n",
      "------------------------------\n"
     ]
    },
    {
     "name": "stderr",
     "output_type": "stream",
     "text": [
      "100%|██████████| 46/46 [00:00<00:00, 48.00it/s]\n"
     ]
    },
    {
     "name": "stdout",
     "output_type": "stream",
     "text": [
      "0.582\n",
      "0.608\n",
      "0.82\n",
      "This is fold 1\n",
      "------------------------------\n",
      "splitting data\n",
      "------------------------------\n",
      "preparing train/test patients, 0.9/0.1\n",
      "preparing train/val patients, 0.9/0.1\n",
      "adding is_valid and feaBag_pt columns...\n",
      "/scratch/prj/cb_normalbreast/Siyuan/prj_normal/BreastAgeNet/experiments/SGK_healthy/iBOT_augmentation/iBOT_augmentation_fold1_train.csv saved!\n",
      "/scratch/prj/cb_normalbreast/Siyuan/prj_normal/BreastAgeNet/experiments/SGK_healthy/iBOT_augmentation/iBOT_augmentation_fold1_test.csv saved!\n",
      "train_data\n",
      "age_group\n",
      "30-50y    329\n",
      ">50y      273\n",
      "<30y      130\n",
      "Name: count, dtype: int64\n",
      "val_data\n",
      "age_group\n",
      "30-50y    33\n",
      ">50y      27\n",
      "<30y      13\n",
      "Name: count, dtype: int64\n",
      "test_data\n",
      "age_group\n",
      "30-50y    83\n",
      ">50y      68\n",
      "<30y      32\n",
      "Name: count, dtype: int64\n",
      "creating dataloaders (path->tensor)\n",
      "------------------------------\n",
      "preparing attention-based MIL model...\n",
      "------------------------------\n",
      "preparing weighted loss function...\n",
      "------------------------------\n",
      "preparing optimizer\n",
      "------------------------------\n",
      "START TRAINING ...\n",
      "------------------------------\n",
      "0/99 epoch\n",
      "\n",
      "Training\n",
      "\n"
     ]
    },
    {
     "name": "stderr",
     "output_type": "stream",
     "text": [
      "100%|██████████| 164/164 [00:02<00:00, 76.57it/s] \n"
     ]
    },
    {
     "name": "stdout",
     "output_type": "stream",
     "text": [
      "<class 'float'> <class 'float'>\n",
      "\n",
      " train Loss: 1.0431  ACC: 0.4583\n",
      "Validation....\n",
      "\n"
     ]
    },
    {
     "name": "stderr",
     "output_type": "stream",
     "text": [
      "100%|██████████| 19/19 [00:00<00:00, 26.66it/s]\n"
     ]
    },
    {
     "name": "stdout",
     "output_type": "stream",
     "text": [
      "\n",
      " val Loss: 1.0864   ACC: 0.5068\n",
      "\n",
      "Validation loss decreased (inf --> 1.086363).  Saving model ...\n",
      "------------------------------\n",
      "1/99 epoch\n",
      "\n",
      "Training\n",
      "\n"
     ]
    },
    {
     "name": "stderr",
     "output_type": "stream",
     "text": [
      "100%|██████████| 164/164 [00:02<00:00, 73.41it/s]\n"
     ]
    },
    {
     "name": "stdout",
     "output_type": "stream",
     "text": [
      "<class 'float'> <class 'float'>\n",
      "\n",
      " train Loss: 0.9242  ACC: 0.5311\n",
      "Validation....\n",
      "\n"
     ]
    },
    {
     "name": "stderr",
     "output_type": "stream",
     "text": [
      "100%|██████████| 19/19 [00:00<00:00, 28.66it/s]\n"
     ]
    },
    {
     "name": "stdout",
     "output_type": "stream",
     "text": [
      "\n",
      " val Loss: 1.0335   ACC: 0.5479\n",
      "\n",
      "Validation loss decreased (1.086363 --> 1.033457).  Saving model ...\n",
      "------------------------------\n",
      "2/99 epoch\n",
      "\n",
      "Training\n",
      "\n"
     ]
    },
    {
     "name": "stderr",
     "output_type": "stream",
     "text": [
      "100%|██████████| 164/164 [00:02<00:00, 74.73it/s]\n"
     ]
    },
    {
     "name": "stdout",
     "output_type": "stream",
     "text": [
      "<class 'float'> <class 'float'>\n",
      "\n",
      " train Loss: 0.8796  ACC: 0.5584\n",
      "Validation....\n",
      "\n"
     ]
    },
    {
     "name": "stderr",
     "output_type": "stream",
     "text": [
      "100%|██████████| 19/19 [00:00<00:00, 25.96it/s]\n"
     ]
    },
    {
     "name": "stdout",
     "output_type": "stream",
     "text": [
      "\n",
      " val Loss: 1.0059   ACC: 0.5616\n",
      "\n",
      "Validation loss decreased (1.033457 --> 1.005947).  Saving model ...\n",
      "------------------------------\n",
      "3/99 epoch\n",
      "\n",
      "Training\n",
      "\n"
     ]
    },
    {
     "name": "stderr",
     "output_type": "stream",
     "text": [
      "100%|██████████| 164/164 [00:02<00:00, 75.00it/s]\n"
     ]
    },
    {
     "name": "stdout",
     "output_type": "stream",
     "text": [
      "<class 'float'> <class 'float'>\n",
      "\n",
      " train Loss: 0.8287  ACC: 0.6237\n",
      "Validation....\n",
      "\n"
     ]
    },
    {
     "name": "stderr",
     "output_type": "stream",
     "text": [
      "100%|██████████| 19/19 [00:00<00:00, 30.92it/s]\n"
     ]
    },
    {
     "name": "stdout",
     "output_type": "stream",
     "text": [
      "\n",
      " val Loss: 1.0173   ACC: 0.5342\n",
      "\n",
      "EarlyStopping counter: 1 out of 5\n",
      "------------------------------\n",
      "4/99 epoch\n",
      "\n",
      "Training\n",
      "\n"
     ]
    },
    {
     "name": "stderr",
     "output_type": "stream",
     "text": [
      "100%|██████████| 164/164 [00:02<00:00, 71.38it/s]\n"
     ]
    },
    {
     "name": "stdout",
     "output_type": "stream",
     "text": [
      "<class 'float'> <class 'float'>\n",
      "\n",
      " train Loss: 0.797  ACC: 0.6267\n",
      "Validation....\n",
      "\n"
     ]
    },
    {
     "name": "stderr",
     "output_type": "stream",
     "text": [
      "100%|██████████| 19/19 [00:00<00:00, 28.21it/s]\n"
     ]
    },
    {
     "name": "stdout",
     "output_type": "stream",
     "text": [
      "\n",
      " val Loss: 0.9741   ACC: 0.5479\n",
      "\n",
      "Validation loss decreased (1.005947 --> 0.974065).  Saving model ...\n",
      "------------------------------\n",
      "5/99 epoch\n",
      "\n",
      "Training\n",
      "\n"
     ]
    },
    {
     "name": "stderr",
     "output_type": "stream",
     "text": [
      "100%|██████████| 164/164 [00:02<00:00, 74.48it/s]\n"
     ]
    },
    {
     "name": "stdout",
     "output_type": "stream",
     "text": [
      "<class 'float'> <class 'float'>\n",
      "\n",
      " train Loss: 0.7415  ACC: 0.6525\n",
      "Validation....\n",
      "\n"
     ]
    },
    {
     "name": "stderr",
     "output_type": "stream",
     "text": [
      "100%|██████████| 19/19 [00:00<00:00, 26.90it/s]\n"
     ]
    },
    {
     "name": "stdout",
     "output_type": "stream",
     "text": [
      "\n",
      " val Loss: 0.9982   ACC: 0.5616\n",
      "\n",
      "EarlyStopping counter: 1 out of 5\n",
      "------------------------------\n",
      "6/99 epoch\n",
      "\n",
      "Training\n",
      "\n"
     ]
    },
    {
     "name": "stderr",
     "output_type": "stream",
     "text": [
      "100%|██████████| 164/164 [00:02<00:00, 71.44it/s]\n"
     ]
    },
    {
     "name": "stdout",
     "output_type": "stream",
     "text": [
      "<class 'float'> <class 'float'>\n",
      "\n",
      " train Loss: 0.6983  ACC: 0.6904\n",
      "Validation....\n",
      "\n"
     ]
    },
    {
     "name": "stderr",
     "output_type": "stream",
     "text": [
      "100%|██████████| 19/19 [00:00<00:00, 24.64it/s]\n"
     ]
    },
    {
     "name": "stdout",
     "output_type": "stream",
     "text": [
      "\n",
      " val Loss: 1.0187   ACC: 0.5205\n",
      "\n",
      "EarlyStopping counter: 2 out of 5\n",
      "------------------------------\n",
      "7/99 epoch\n",
      "\n",
      "Training\n",
      "\n"
     ]
    },
    {
     "name": "stderr",
     "output_type": "stream",
     "text": [
      "100%|██████████| 164/164 [00:02<00:00, 72.37it/s]\n"
     ]
    },
    {
     "name": "stdout",
     "output_type": "stream",
     "text": [
      "<class 'float'> <class 'float'>\n",
      "\n",
      " train Loss: 0.6656  ACC: 0.7102\n",
      "Validation....\n",
      "\n"
     ]
    },
    {
     "name": "stderr",
     "output_type": "stream",
     "text": [
      "100%|██████████| 19/19 [00:00<00:00, 27.44it/s]\n"
     ]
    },
    {
     "name": "stdout",
     "output_type": "stream",
     "text": [
      "\n",
      " val Loss: 1.0532   ACC: 0.4658\n",
      "\n",
      "EarlyStopping counter: 3 out of 5\n",
      "------------------------------\n",
      "8/99 epoch\n",
      "\n",
      "Training\n",
      "\n"
     ]
    },
    {
     "name": "stderr",
     "output_type": "stream",
     "text": [
      "100%|██████████| 164/164 [00:02<00:00, 72.68it/s]\n"
     ]
    },
    {
     "name": "stdout",
     "output_type": "stream",
     "text": [
      "<class 'float'> <class 'float'>\n",
      "\n",
      " train Loss: 0.6114  ACC: 0.739\n",
      "Validation....\n",
      "\n"
     ]
    },
    {
     "name": "stderr",
     "output_type": "stream",
     "text": [
      "100%|██████████| 19/19 [00:00<00:00, 26.61it/s]\n"
     ]
    },
    {
     "name": "stdout",
     "output_type": "stream",
     "text": [
      "\n",
      " val Loss: 1.1276   ACC: 0.5205\n",
      "\n",
      "EarlyStopping counter: 4 out of 5\n",
      "------------------------------\n",
      "9/99 epoch\n",
      "\n",
      "Training\n",
      "\n"
     ]
    },
    {
     "name": "stderr",
     "output_type": "stream",
     "text": [
      "100%|██████████| 164/164 [00:02<00:00, 73.78it/s] \n"
     ]
    },
    {
     "name": "stdout",
     "output_type": "stream",
     "text": [
      "<class 'float'> <class 'float'>\n",
      "\n",
      " train Loss: 0.5836  ACC: 0.7299\n",
      "Validation....\n",
      "\n"
     ]
    },
    {
     "name": "stderr",
     "output_type": "stream",
     "text": [
      "100%|██████████| 19/19 [00:00<00:00, 26.69it/s]\n"
     ]
    },
    {
     "name": "stdout",
     "output_type": "stream",
     "text": [
      "\n",
      " val Loss: 1.0633   ACC: 0.5205\n",
      "\n",
      "EarlyStopping counter: 5 out of 5\n",
      "------------------------------\n",
      "10/99 epoch\n",
      "\n",
      "Training\n",
      "\n"
     ]
    },
    {
     "name": "stderr",
     "output_type": "stream",
     "text": [
      "100%|██████████| 164/164 [00:02<00:00, 74.28it/s] \n"
     ]
    },
    {
     "name": "stdout",
     "output_type": "stream",
     "text": [
      "<class 'float'> <class 'float'>\n",
      "\n",
      " train Loss: 0.494  ACC: 0.7921\n",
      "Validation....\n",
      "\n"
     ]
    },
    {
     "name": "stderr",
     "output_type": "stream",
     "text": [
      "100%|██████████| 19/19 [00:00<00:00, 27.92it/s]\n"
     ]
    },
    {
     "name": "stdout",
     "output_type": "stream",
     "text": [
      "\n",
      " val Loss: 1.252   ACC: 0.5616\n",
      "\n",
      "EarlyStopping counter: 6 out of 5\n",
      "------------------------------\n",
      "11/99 epoch\n",
      "\n",
      "Training\n",
      "\n"
     ]
    },
    {
     "name": "stderr",
     "output_type": "stream",
     "text": [
      "100%|██████████| 164/164 [00:02<00:00, 74.13it/s] \n"
     ]
    },
    {
     "name": "stdout",
     "output_type": "stream",
     "text": [
      "<class 'float'> <class 'float'>\n",
      "\n",
      " train Loss: 0.4486  ACC: 0.8346\n",
      "Validation....\n",
      "\n"
     ]
    },
    {
     "name": "stderr",
     "output_type": "stream",
     "text": [
      "100%|██████████| 19/19 [00:00<00:00, 26.42it/s]\n"
     ]
    },
    {
     "name": "stdout",
     "output_type": "stream",
     "text": [
      "\n",
      " val Loss: 1.2585   ACC: 0.5342\n",
      "\n",
      "EarlyStopping counter: 7 out of 5\n",
      "------------------------------\n",
      "12/99 epoch\n",
      "\n",
      "Training\n",
      "\n"
     ]
    },
    {
     "name": "stderr",
     "output_type": "stream",
     "text": [
      "100%|██████████| 164/164 [00:02<00:00, 74.60it/s]\n"
     ]
    },
    {
     "name": "stdout",
     "output_type": "stream",
     "text": [
      "<class 'float'> <class 'float'>\n",
      "\n",
      " train Loss: 0.3676  ACC: 0.8634\n",
      "Validation....\n",
      "\n"
     ]
    },
    {
     "name": "stderr",
     "output_type": "stream",
     "text": [
      "100%|██████████| 19/19 [00:00<00:00, 25.36it/s]\n"
     ]
    },
    {
     "name": "stdout",
     "output_type": "stream",
     "text": [
      "\n",
      " val Loss: 1.3598   ACC: 0.5205\n",
      "\n",
      "EarlyStopping counter: 8 out of 5\n",
      "------------------------------\n",
      "13/99 epoch\n",
      "\n",
      "Training\n",
      "\n"
     ]
    },
    {
     "name": "stderr",
     "output_type": "stream",
     "text": [
      "100%|██████████| 164/164 [00:02<00:00, 71.99it/s]\n"
     ]
    },
    {
     "name": "stdout",
     "output_type": "stream",
     "text": [
      "<class 'float'> <class 'float'>\n",
      "\n",
      " train Loss: 0.3225  ACC: 0.871\n",
      "Validation....\n",
      "\n"
     ]
    },
    {
     "name": "stderr",
     "output_type": "stream",
     "text": [
      "100%|██████████| 19/19 [00:00<00:00, 28.97it/s]\n"
     ]
    },
    {
     "name": "stdout",
     "output_type": "stream",
     "text": [
      "\n",
      " val Loss: 1.6174   ACC: 0.4932\n",
      "\n",
      "EarlyStopping counter: 9 out of 5\n",
      "------------------------------\n",
      "14/99 epoch\n",
      "\n",
      "Training\n",
      "\n"
     ]
    },
    {
     "name": "stderr",
     "output_type": "stream",
     "text": [
      "100%|██████████| 164/164 [00:02<00:00, 72.16it/s] \n"
     ]
    },
    {
     "name": "stdout",
     "output_type": "stream",
     "text": [
      "<class 'float'> <class 'float'>\n",
      "\n",
      " train Loss: 0.3285  ACC: 0.8649\n",
      "Validation....\n",
      "\n"
     ]
    },
    {
     "name": "stderr",
     "output_type": "stream",
     "text": [
      "100%|██████████| 19/19 [00:00<00:00, 31.39it/s]\n"
     ]
    },
    {
     "name": "stdout",
     "output_type": "stream",
     "text": [
      "\n",
      " val Loss: 1.5723   ACC: 0.4658\n",
      "\n",
      "EarlyStopping counter: 10 out of 5\n",
      "------------------------------\n",
      "15/99 epoch\n",
      "\n",
      "Training\n",
      "\n"
     ]
    },
    {
     "name": "stderr",
     "output_type": "stream",
     "text": [
      "100%|██████████| 164/164 [00:02<00:00, 75.17it/s]\n"
     ]
    },
    {
     "name": "stdout",
     "output_type": "stream",
     "text": [
      "<class 'float'> <class 'float'>\n",
      "\n",
      " train Loss: 0.2417  ACC: 0.915\n",
      "Validation....\n",
      "\n"
     ]
    },
    {
     "name": "stderr",
     "output_type": "stream",
     "text": [
      "100%|██████████| 19/19 [00:00<00:00, 25.80it/s]\n"
     ]
    },
    {
     "name": "stdout",
     "output_type": "stream",
     "text": [
      "\n",
      " val Loss: 2.0407   ACC: 0.411\n",
      "\n",
      "EarlyStopping counter: 11 out of 5\n",
      "------------------------------\n",
      "16/99 epoch\n",
      "\n",
      "Training\n",
      "\n"
     ]
    },
    {
     "name": "stderr",
     "output_type": "stream",
     "text": [
      "100%|██████████| 164/164 [00:02<00:00, 75.16it/s]\n"
     ]
    },
    {
     "name": "stdout",
     "output_type": "stream",
     "text": [
      "<class 'float'> <class 'float'>\n",
      "\n",
      " train Loss: 0.2728  ACC: 0.8953\n",
      "Validation....\n",
      "\n"
     ]
    },
    {
     "name": "stderr",
     "output_type": "stream",
     "text": [
      "100%|██████████| 19/19 [00:00<00:00, 29.64it/s]\n"
     ]
    },
    {
     "name": "stdout",
     "output_type": "stream",
     "text": [
      "\n",
      " val Loss: 1.6027   ACC: 0.5342\n",
      "\n",
      "EarlyStopping counter: 12 out of 5\n",
      "------------------------------\n",
      "17/99 epoch\n",
      "\n",
      "Training\n",
      "\n"
     ]
    },
    {
     "name": "stderr",
     "output_type": "stream",
     "text": [
      "100%|██████████| 164/164 [00:02<00:00, 74.87it/s]\n"
     ]
    },
    {
     "name": "stdout",
     "output_type": "stream",
     "text": [
      "<class 'float'> <class 'float'>\n",
      "\n",
      " train Loss: 0.1617  ACC: 0.9545\n",
      "Validation....\n",
      "\n"
     ]
    },
    {
     "name": "stderr",
     "output_type": "stream",
     "text": [
      "100%|██████████| 19/19 [00:00<00:00, 27.35it/s]\n"
     ]
    },
    {
     "name": "stdout",
     "output_type": "stream",
     "text": [
      "\n",
      " val Loss: 1.6889   ACC: 0.589\n",
      "\n",
      "EarlyStopping counter: 13 out of 5\n",
      "------------------------------\n",
      "18/99 epoch\n",
      "\n",
      "Training\n",
      "\n"
     ]
    },
    {
     "name": "stderr",
     "output_type": "stream",
     "text": [
      "100%|██████████| 164/164 [00:02<00:00, 72.37it/s]\n"
     ]
    },
    {
     "name": "stdout",
     "output_type": "stream",
     "text": [
      "<class 'float'> <class 'float'>\n",
      "\n",
      " train Loss: 0.1317  ACC: 0.9666\n",
      "Validation....\n",
      "\n"
     ]
    },
    {
     "name": "stderr",
     "output_type": "stream",
     "text": [
      "100%|██████████| 19/19 [00:00<00:00, 27.67it/s]\n"
     ]
    },
    {
     "name": "stdout",
     "output_type": "stream",
     "text": [
      "\n",
      " val Loss: 2.1034   ACC: 0.5753\n",
      "\n",
      "EarlyStopping counter: 14 out of 5\n",
      "------------------------------\n",
      "19/99 epoch\n",
      "\n",
      "Training\n",
      "\n"
     ]
    },
    {
     "name": "stderr",
     "output_type": "stream",
     "text": [
      "100%|██████████| 164/164 [00:02<00:00, 71.72it/s]\n"
     ]
    },
    {
     "name": "stdout",
     "output_type": "stream",
     "text": [
      "<class 'float'> <class 'float'>\n",
      "\n",
      " train Loss: 0.2399  ACC: 0.909\n",
      "Validation....\n",
      "\n"
     ]
    },
    {
     "name": "stderr",
     "output_type": "stream",
     "text": [
      "100%|██████████| 19/19 [00:00<00:00, 26.00it/s]\n"
     ]
    },
    {
     "name": "stdout",
     "output_type": "stream",
     "text": [
      "\n",
      " val Loss: 2.169   ACC: 0.4795\n",
      "\n",
      "EarlyStopping counter: 15 out of 5\n",
      "------------------------------\n",
      "20/99 epoch\n",
      "\n",
      "Training\n",
      "\n"
     ]
    },
    {
     "name": "stderr",
     "output_type": "stream",
     "text": [
      "100%|██████████| 164/164 [00:02<00:00, 74.31it/s]\n"
     ]
    },
    {
     "name": "stdout",
     "output_type": "stream",
     "text": [
      "<class 'float'> <class 'float'>\n",
      "\n",
      " train Loss: 0.098  ACC: 0.9666\n",
      "Validation....\n",
      "\n"
     ]
    },
    {
     "name": "stderr",
     "output_type": "stream",
     "text": [
      "100%|██████████| 19/19 [00:00<00:00, 28.17it/s]\n"
     ]
    },
    {
     "name": "stdout",
     "output_type": "stream",
     "text": [
      "\n",
      " val Loss: 2.2729   ACC: 0.5479\n",
      "\n",
      "EarlyStopping counter: 16 out of 5\n",
      "------------------------------\n",
      "21/99 epoch\n",
      "\n",
      "Training\n",
      "\n"
     ]
    },
    {
     "name": "stderr",
     "output_type": "stream",
     "text": [
      "100%|██████████| 164/164 [00:02<00:00, 75.01it/s]\n"
     ]
    },
    {
     "name": "stdout",
     "output_type": "stream",
     "text": [
      "<class 'float'> <class 'float'>\n",
      "\n",
      " train Loss: 0.0756  ACC: 0.9788\n",
      "Validation....\n",
      "\n"
     ]
    },
    {
     "name": "stderr",
     "output_type": "stream",
     "text": [
      "100%|██████████| 19/19 [00:00<00:00, 26.78it/s]\n"
     ]
    },
    {
     "name": "stdout",
     "output_type": "stream",
     "text": [
      "\n",
      " val Loss: 2.1953   ACC: 0.5616\n",
      "\n",
      "EarlyStopping counter: 17 out of 5\n",
      "------------------------------\n",
      "Training stop, the validation loss did not drop for 5 epochs!!!\n",
      "------------------------------\n",
      "Training completed in 1m 4s\n",
      "------------------------------\n",
      "START TESTING ...\n",
      "------------------------------\n"
     ]
    },
    {
     "name": "stderr",
     "output_type": "stream",
     "text": [
      "100%|██████████| 46/46 [00:00<00:00, 47.03it/s]\n"
     ]
    },
    {
     "name": "stdout",
     "output_type": "stream",
     "text": [
      "0.518\n",
      "0.641\n",
      "0.783\n",
      "This is fold 2\n",
      "------------------------------\n",
      "splitting data\n",
      "------------------------------\n",
      "preparing train/test patients, 0.9/0.1\n",
      "preparing train/val patients, 0.9/0.1\n",
      "adding is_valid and feaBag_pt columns...\n",
      "/scratch/prj/cb_normalbreast/Siyuan/prj_normal/BreastAgeNet/experiments/SGK_healthy/iBOT_augmentation/iBOT_augmentation_fold2_train.csv saved!\n",
      "/scratch/prj/cb_normalbreast/Siyuan/prj_normal/BreastAgeNet/experiments/SGK_healthy/iBOT_augmentation/iBOT_augmentation_fold2_test.csv saved!\n",
      "train_data\n",
      "age_group\n",
      "30-50y    330\n",
      ">50y      272\n",
      "<30y      130\n",
      "Name: count, dtype: int64\n",
      "val_data\n",
      "age_group\n",
      "30-50y    33\n",
      ">50y      27\n",
      "<30y      13\n",
      "Name: count, dtype: int64\n",
      "test_data\n",
      "age_group\n",
      "30-50y    82\n",
      ">50y      69\n",
      "<30y      32\n",
      "Name: count, dtype: int64\n",
      "creating dataloaders (path->tensor)\n",
      "------------------------------\n",
      "preparing attention-based MIL model...\n",
      "------------------------------\n",
      "preparing weighted loss function...\n",
      "------------------------------\n",
      "preparing optimizer\n",
      "------------------------------\n",
      "START TRAINING ...\n",
      "------------------------------\n",
      "0/99 epoch\n",
      "\n",
      "Training\n",
      "\n"
     ]
    },
    {
     "name": "stderr",
     "output_type": "stream",
     "text": [
      "100%|██████████| 164/164 [00:02<00:00, 69.11it/s]\n"
     ]
    },
    {
     "name": "stdout",
     "output_type": "stream",
     "text": [
      "<class 'float'> <class 'float'>\n",
      "\n",
      " train Loss: 1.0569  ACC: 0.4097\n",
      "Validation....\n",
      "\n"
     ]
    },
    {
     "name": "stderr",
     "output_type": "stream",
     "text": [
      "100%|██████████| 19/19 [00:00<00:00, 25.83it/s]\n"
     ]
    },
    {
     "name": "stdout",
     "output_type": "stream",
     "text": [
      "\n",
      " val Loss: 0.9501   ACC: 0.6438\n",
      "\n",
      "Validation loss decreased (inf --> 0.950142).  Saving model ...\n",
      "------------------------------\n",
      "1/99 epoch\n",
      "\n",
      "Training\n",
      "\n"
     ]
    },
    {
     "name": "stderr",
     "output_type": "stream",
     "text": [
      "100%|██████████| 164/164 [00:02<00:00, 70.60it/s]\n"
     ]
    },
    {
     "name": "stdout",
     "output_type": "stream",
     "text": [
      "<class 'float'> <class 'float'>\n",
      "\n",
      " train Loss: 0.9579  ACC: 0.519\n",
      "Validation....\n",
      "\n"
     ]
    },
    {
     "name": "stderr",
     "output_type": "stream",
     "text": [
      "100%|██████████| 19/19 [00:00<00:00, 25.26it/s]\n"
     ]
    },
    {
     "name": "stdout",
     "output_type": "stream",
     "text": [
      "\n",
      " val Loss: 0.8784   ACC: 0.6301\n",
      "\n",
      "Validation loss decreased (0.950142 --> 0.878364).  Saving model ...\n",
      "------------------------------\n",
      "2/99 epoch\n",
      "\n",
      "Training\n",
      "\n"
     ]
    },
    {
     "name": "stderr",
     "output_type": "stream",
     "text": [
      "100%|██████████| 164/164 [00:02<00:00, 70.90it/s] \n"
     ]
    },
    {
     "name": "stdout",
     "output_type": "stream",
     "text": [
      "<class 'float'> <class 'float'>\n",
      "\n",
      " train Loss: 0.9071  ACC: 0.569\n",
      "Validation....\n",
      "\n"
     ]
    },
    {
     "name": "stderr",
     "output_type": "stream",
     "text": [
      "100%|██████████| 19/19 [00:00<00:00, 25.61it/s]\n"
     ]
    },
    {
     "name": "stdout",
     "output_type": "stream",
     "text": [
      "\n",
      " val Loss: 0.9029   ACC: 0.5616\n",
      "\n",
      "EarlyStopping counter: 1 out of 5\n",
      "------------------------------\n",
      "3/99 epoch\n",
      "\n",
      "Training\n",
      "\n"
     ]
    },
    {
     "name": "stderr",
     "output_type": "stream",
     "text": [
      "100%|██████████| 164/164 [00:02<00:00, 67.80it/s]\n"
     ]
    },
    {
     "name": "stdout",
     "output_type": "stream",
     "text": [
      "<class 'float'> <class 'float'>\n",
      "\n",
      " train Loss: 0.8476  ACC: 0.61\n",
      "Validation....\n",
      "\n"
     ]
    },
    {
     "name": "stderr",
     "output_type": "stream",
     "text": [
      "100%|██████████| 19/19 [00:00<00:00, 24.73it/s]\n"
     ]
    },
    {
     "name": "stdout",
     "output_type": "stream",
     "text": [
      "\n",
      " val Loss: 0.8615   ACC: 0.5616\n",
      "\n",
      "Validation loss decreased (0.878364 --> 0.861504).  Saving model ...\n",
      "------------------------------\n",
      "4/99 epoch\n",
      "\n",
      "Training\n",
      "\n"
     ]
    },
    {
     "name": "stderr",
     "output_type": "stream",
     "text": [
      "100%|██████████| 164/164 [00:02<00:00, 72.17it/s]\n"
     ]
    },
    {
     "name": "stdout",
     "output_type": "stream",
     "text": [
      "<class 'float'> <class 'float'>\n",
      "\n",
      " train Loss: 0.8195  ACC: 0.6222\n",
      "Validation....\n",
      "\n"
     ]
    },
    {
     "name": "stderr",
     "output_type": "stream",
     "text": [
      "100%|██████████| 19/19 [00:00<00:00, 25.17it/s]\n"
     ]
    },
    {
     "name": "stdout",
     "output_type": "stream",
     "text": [
      "\n",
      " val Loss: 0.8379   ACC: 0.5616\n",
      "\n",
      "Validation loss decreased (0.861504 --> 0.837907).  Saving model ...\n",
      "------------------------------\n",
      "5/99 epoch\n",
      "\n",
      "Training\n",
      "\n"
     ]
    },
    {
     "name": "stderr",
     "output_type": "stream",
     "text": [
      "100%|██████████| 164/164 [00:02<00:00, 69.22it/s] \n"
     ]
    },
    {
     "name": "stdout",
     "output_type": "stream",
     "text": [
      "<class 'float'> <class 'float'>\n",
      "\n",
      " train Loss: 0.7793  ACC: 0.6373\n",
      "Validation....\n",
      "\n"
     ]
    },
    {
     "name": "stderr",
     "output_type": "stream",
     "text": [
      "100%|██████████| 19/19 [00:00<00:00, 24.54it/s]\n"
     ]
    },
    {
     "name": "stdout",
     "output_type": "stream",
     "text": [
      "\n",
      " val Loss: 0.8531   ACC: 0.6027\n",
      "\n",
      "EarlyStopping counter: 1 out of 5\n",
      "------------------------------\n",
      "6/99 epoch\n",
      "\n",
      "Training\n",
      "\n"
     ]
    },
    {
     "name": "stderr",
     "output_type": "stream",
     "text": [
      "100%|██████████| 164/164 [00:02<00:00, 72.17it/s]\n"
     ]
    },
    {
     "name": "stdout",
     "output_type": "stream",
     "text": [
      "<class 'float'> <class 'float'>\n",
      "\n",
      " train Loss: 0.7279  ACC: 0.6616\n",
      "Validation....\n",
      "\n"
     ]
    },
    {
     "name": "stderr",
     "output_type": "stream",
     "text": [
      "100%|██████████| 19/19 [00:00<00:00, 26.21it/s]\n"
     ]
    },
    {
     "name": "stdout",
     "output_type": "stream",
     "text": [
      "\n",
      " val Loss: 0.8215   ACC: 0.589\n",
      "\n",
      "Validation loss decreased (0.837907 --> 0.821458).  Saving model ...\n",
      "------------------------------\n",
      "7/99 epoch\n",
      "\n",
      "Training\n",
      "\n"
     ]
    },
    {
     "name": "stderr",
     "output_type": "stream",
     "text": [
      "100%|██████████| 164/164 [00:02<00:00, 73.11it/s] \n"
     ]
    },
    {
     "name": "stdout",
     "output_type": "stream",
     "text": [
      "<class 'float'> <class 'float'>\n",
      "\n",
      " train Loss: 0.6787  ACC: 0.6829\n",
      "Validation....\n",
      "\n"
     ]
    },
    {
     "name": "stderr",
     "output_type": "stream",
     "text": [
      "100%|██████████| 19/19 [00:00<00:00, 26.04it/s]\n"
     ]
    },
    {
     "name": "stdout",
     "output_type": "stream",
     "text": [
      "\n",
      " val Loss: 0.829   ACC: 0.6575\n",
      "\n",
      "EarlyStopping counter: 1 out of 5\n",
      "------------------------------\n",
      "8/99 epoch\n",
      "\n",
      "Training\n",
      "\n"
     ]
    },
    {
     "name": "stderr",
     "output_type": "stream",
     "text": [
      "100%|██████████| 164/164 [00:02<00:00, 71.34it/s]\n"
     ]
    },
    {
     "name": "stdout",
     "output_type": "stream",
     "text": [
      "<class 'float'> <class 'float'>\n",
      "\n",
      " train Loss: 0.6359  ACC: 0.7162\n",
      "Validation....\n",
      "\n"
     ]
    },
    {
     "name": "stderr",
     "output_type": "stream",
     "text": [
      "100%|██████████| 19/19 [00:00<00:00, 24.60it/s]\n"
     ]
    },
    {
     "name": "stdout",
     "output_type": "stream",
     "text": [
      "\n",
      " val Loss: 0.9452   ACC: 0.5753\n",
      "\n",
      "EarlyStopping counter: 2 out of 5\n",
      "------------------------------\n",
      "9/99 epoch\n",
      "\n",
      "Training\n",
      "\n"
     ]
    },
    {
     "name": "stderr",
     "output_type": "stream",
     "text": [
      "100%|██████████| 164/164 [00:02<00:00, 73.07it/s] \n"
     ]
    },
    {
     "name": "stdout",
     "output_type": "stream",
     "text": [
      "<class 'float'> <class 'float'>\n",
      "\n",
      " train Loss: 0.5583  ACC: 0.7633\n",
      "Validation....\n",
      "\n"
     ]
    },
    {
     "name": "stderr",
     "output_type": "stream",
     "text": [
      "100%|██████████| 19/19 [00:00<00:00, 25.49it/s]\n"
     ]
    },
    {
     "name": "stdout",
     "output_type": "stream",
     "text": [
      "\n",
      " val Loss: 0.9188   ACC: 0.5753\n",
      "\n",
      "EarlyStopping counter: 3 out of 5\n",
      "------------------------------\n",
      "10/99 epoch\n",
      "\n",
      "Training\n",
      "\n"
     ]
    },
    {
     "name": "stderr",
     "output_type": "stream",
     "text": [
      "100%|██████████| 164/164 [00:02<00:00, 71.49it/s]\n"
     ]
    },
    {
     "name": "stdout",
     "output_type": "stream",
     "text": [
      "<class 'float'> <class 'float'>\n",
      "\n",
      " train Loss: 0.5089  ACC: 0.783\n",
      "Validation....\n",
      "\n"
     ]
    },
    {
     "name": "stderr",
     "output_type": "stream",
     "text": [
      "100%|██████████| 19/19 [00:00<00:00, 28.16it/s]\n"
     ]
    },
    {
     "name": "stdout",
     "output_type": "stream",
     "text": [
      "\n",
      " val Loss: 0.9265   ACC: 0.5753\n",
      "\n",
      "EarlyStopping counter: 4 out of 5\n",
      "------------------------------\n",
      "11/99 epoch\n",
      "\n",
      "Training\n",
      "\n"
     ]
    },
    {
     "name": "stderr",
     "output_type": "stream",
     "text": [
      "100%|██████████| 164/164 [00:02<00:00, 69.54it/s]\n"
     ]
    },
    {
     "name": "stdout",
     "output_type": "stream",
     "text": [
      "<class 'float'> <class 'float'>\n",
      "\n",
      " train Loss: 0.4559  ACC: 0.8027\n",
      "Validation....\n",
      "\n"
     ]
    },
    {
     "name": "stderr",
     "output_type": "stream",
     "text": [
      "100%|██████████| 19/19 [00:00<00:00, 24.63it/s]\n"
     ]
    },
    {
     "name": "stdout",
     "output_type": "stream",
     "text": [
      "\n",
      " val Loss: 0.9038   ACC: 0.6164\n",
      "\n",
      "EarlyStopping counter: 5 out of 5\n",
      "------------------------------\n",
      "12/99 epoch\n",
      "\n",
      "Training\n",
      "\n"
     ]
    },
    {
     "name": "stderr",
     "output_type": "stream",
     "text": [
      "100%|██████████| 164/164 [00:02<00:00, 70.47it/s]\n"
     ]
    },
    {
     "name": "stdout",
     "output_type": "stream",
     "text": [
      "<class 'float'> <class 'float'>\n",
      "\n",
      " train Loss: 0.4125  ACC: 0.8392\n",
      "Validation....\n",
      "\n"
     ]
    },
    {
     "name": "stderr",
     "output_type": "stream",
     "text": [
      "100%|██████████| 19/19 [00:00<00:00, 24.61it/s]\n"
     ]
    },
    {
     "name": "stdout",
     "output_type": "stream",
     "text": [
      "\n",
      " val Loss: 0.8922   ACC: 0.6438\n",
      "\n",
      "EarlyStopping counter: 6 out of 5\n",
      "------------------------------\n",
      "13/99 epoch\n",
      "\n",
      "Training\n",
      "\n"
     ]
    },
    {
     "name": "stderr",
     "output_type": "stream",
     "text": [
      "100%|██████████| 164/164 [00:02<00:00, 70.86it/s]\n"
     ]
    },
    {
     "name": "stdout",
     "output_type": "stream",
     "text": [
      "<class 'float'> <class 'float'>\n",
      "\n",
      " train Loss: 0.3549  ACC: 0.8634\n",
      "Validation....\n",
      "\n"
     ]
    },
    {
     "name": "stderr",
     "output_type": "stream",
     "text": [
      "100%|██████████| 19/19 [00:00<00:00, 24.91it/s]\n"
     ]
    },
    {
     "name": "stdout",
     "output_type": "stream",
     "text": [
      "\n",
      " val Loss: 1.1503   ACC: 0.5479\n",
      "\n",
      "EarlyStopping counter: 7 out of 5\n",
      "------------------------------\n",
      "14/99 epoch\n",
      "\n",
      "Training\n",
      "\n"
     ]
    },
    {
     "name": "stderr",
     "output_type": "stream",
     "text": [
      "100%|██████████| 164/164 [00:02<00:00, 69.95it/s]\n"
     ]
    },
    {
     "name": "stdout",
     "output_type": "stream",
     "text": [
      "<class 'float'> <class 'float'>\n",
      "\n",
      " train Loss: 0.2876  ACC: 0.8892\n",
      "Validation....\n",
      "\n"
     ]
    },
    {
     "name": "stderr",
     "output_type": "stream",
     "text": [
      "100%|██████████| 19/19 [00:00<00:00, 26.97it/s]\n"
     ]
    },
    {
     "name": "stdout",
     "output_type": "stream",
     "text": [
      "\n",
      " val Loss: 1.105   ACC: 0.5753\n",
      "\n",
      "EarlyStopping counter: 8 out of 5\n",
      "------------------------------\n",
      "15/99 epoch\n",
      "\n",
      "Training\n",
      "\n"
     ]
    },
    {
     "name": "stderr",
     "output_type": "stream",
     "text": [
      "100%|██████████| 164/164 [00:02<00:00, 70.13it/s] \n"
     ]
    },
    {
     "name": "stdout",
     "output_type": "stream",
     "text": [
      "<class 'float'> <class 'float'>\n",
      "\n",
      " train Loss: 0.2302  ACC: 0.9302\n",
      "Validation....\n",
      "\n"
     ]
    },
    {
     "name": "stderr",
     "output_type": "stream",
     "text": [
      "100%|██████████| 19/19 [00:00<00:00, 26.27it/s]\n"
     ]
    },
    {
     "name": "stdout",
     "output_type": "stream",
     "text": [
      "\n",
      " val Loss: 1.3018   ACC: 0.5753\n",
      "\n",
      "EarlyStopping counter: 9 out of 5\n",
      "------------------------------\n",
      "16/99 epoch\n",
      "\n",
      "Training\n",
      "\n"
     ]
    },
    {
     "name": "stderr",
     "output_type": "stream",
     "text": [
      "100%|██████████| 164/164 [00:02<00:00, 72.76it/s]\n"
     ]
    },
    {
     "name": "stdout",
     "output_type": "stream",
     "text": [
      "<class 'float'> <class 'float'>\n",
      "\n",
      " train Loss: 0.1947  ACC: 0.9332\n",
      "Validation....\n",
      "\n"
     ]
    },
    {
     "name": "stderr",
     "output_type": "stream",
     "text": [
      "100%|██████████| 19/19 [00:00<00:00, 25.90it/s]\n"
     ]
    },
    {
     "name": "stdout",
     "output_type": "stream",
     "text": [
      "\n",
      " val Loss: 1.2644   ACC: 0.5479\n",
      "\n",
      "EarlyStopping counter: 10 out of 5\n",
      "------------------------------\n",
      "17/99 epoch\n",
      "\n",
      "Training\n",
      "\n"
     ]
    },
    {
     "name": "stderr",
     "output_type": "stream",
     "text": [
      "100%|██████████| 164/164 [00:02<00:00, 72.28it/s] \n"
     ]
    },
    {
     "name": "stdout",
     "output_type": "stream",
     "text": [
      "<class 'float'> <class 'float'>\n",
      "\n",
      " train Loss: 0.1566  ACC: 0.9499\n",
      "Validation....\n",
      "\n"
     ]
    },
    {
     "name": "stderr",
     "output_type": "stream",
     "text": [
      "100%|██████████| 19/19 [00:00<00:00, 25.63it/s]\n"
     ]
    },
    {
     "name": "stdout",
     "output_type": "stream",
     "text": [
      "\n",
      " val Loss: 1.4781   ACC: 0.5753\n",
      "\n",
      "EarlyStopping counter: 11 out of 5\n",
      "------------------------------\n",
      "18/99 epoch\n",
      "\n",
      "Training\n",
      "\n"
     ]
    },
    {
     "name": "stderr",
     "output_type": "stream",
     "text": [
      "100%|██████████| 164/164 [00:02<00:00, 72.02it/s]\n"
     ]
    },
    {
     "name": "stdout",
     "output_type": "stream",
     "text": [
      "<class 'float'> <class 'float'>\n",
      "\n",
      " train Loss: 0.1743  ACC: 0.9454\n",
      "Validation....\n",
      "\n"
     ]
    },
    {
     "name": "stderr",
     "output_type": "stream",
     "text": [
      "100%|██████████| 19/19 [00:00<00:00, 24.67it/s]\n"
     ]
    },
    {
     "name": "stdout",
     "output_type": "stream",
     "text": [
      "\n",
      " val Loss: 1.4544   ACC: 0.5205\n",
      "\n",
      "EarlyStopping counter: 12 out of 5\n",
      "------------------------------\n",
      "19/99 epoch\n",
      "\n",
      "Training\n",
      "\n"
     ]
    },
    {
     "name": "stderr",
     "output_type": "stream",
     "text": [
      "100%|██████████| 164/164 [00:02<00:00, 73.13it/s]\n"
     ]
    },
    {
     "name": "stdout",
     "output_type": "stream",
     "text": [
      "<class 'float'> <class 'float'>\n",
      "\n",
      " train Loss: 0.2084  ACC: 0.9241\n",
      "Validation....\n",
      "\n"
     ]
    },
    {
     "name": "stderr",
     "output_type": "stream",
     "text": [
      "100%|██████████| 19/19 [00:00<00:00, 26.18it/s]\n"
     ]
    },
    {
     "name": "stdout",
     "output_type": "stream",
     "text": [
      "\n",
      " val Loss: 1.4065   ACC: 0.4932\n",
      "\n",
      "EarlyStopping counter: 13 out of 5\n",
      "------------------------------\n",
      "20/99 epoch\n",
      "\n",
      "Training\n",
      "\n"
     ]
    },
    {
     "name": "stderr",
     "output_type": "stream",
     "text": [
      "100%|██████████| 164/164 [00:02<00:00, 69.00it/s]\n"
     ]
    },
    {
     "name": "stdout",
     "output_type": "stream",
     "text": [
      "<class 'float'> <class 'float'>\n",
      "\n",
      " train Loss: 0.1829  ACC: 0.9393\n",
      "Validation....\n",
      "\n"
     ]
    },
    {
     "name": "stderr",
     "output_type": "stream",
     "text": [
      "100%|██████████| 19/19 [00:00<00:00, 26.98it/s]\n"
     ]
    },
    {
     "name": "stdout",
     "output_type": "stream",
     "text": [
      "\n",
      " val Loss: 1.4142   ACC: 0.5342\n",
      "\n",
      "EarlyStopping counter: 14 out of 5\n",
      "------------------------------\n",
      "21/99 epoch\n",
      "\n",
      "Training\n",
      "\n"
     ]
    },
    {
     "name": "stderr",
     "output_type": "stream",
     "text": [
      "100%|██████████| 164/164 [00:02<00:00, 72.57it/s] \n"
     ]
    },
    {
     "name": "stdout",
     "output_type": "stream",
     "text": [
      "<class 'float'> <class 'float'>\n",
      "\n",
      " train Loss: 0.0953  ACC: 0.9712\n",
      "Validation....\n",
      "\n"
     ]
    },
    {
     "name": "stderr",
     "output_type": "stream",
     "text": [
      "100%|██████████| 19/19 [00:00<00:00, 25.56it/s]\n"
     ]
    },
    {
     "name": "stdout",
     "output_type": "stream",
     "text": [
      "\n",
      " val Loss: 1.7461   ACC: 0.5753\n",
      "\n",
      "EarlyStopping counter: 15 out of 5\n",
      "------------------------------\n",
      "Training stop, the validation loss did not drop for 5 epochs!!!\n",
      "------------------------------\n",
      "Training completed in 1m 7s\n",
      "------------------------------\n",
      "START TESTING ...\n",
      "------------------------------\n"
     ]
    },
    {
     "name": "stderr",
     "output_type": "stream",
     "text": [
      "100%|██████████| 46/46 [00:01<00:00, 44.29it/s]\n"
     ]
    },
    {
     "name": "stdout",
     "output_type": "stream",
     "text": [
      "0.541\n",
      "0.592\n",
      "0.844\n",
      "This is fold 3\n",
      "------------------------------\n",
      "splitting data\n",
      "------------------------------\n",
      "preparing train/test patients, 0.9/0.1\n",
      "preparing train/val patients, 0.9/0.1\n",
      "adding is_valid and feaBag_pt columns...\n",
      "/scratch/prj/cb_normalbreast/Siyuan/prj_normal/BreastAgeNet/experiments/SGK_healthy/iBOT_augmentation/iBOT_augmentation_fold3_train.csv saved!\n",
      "/scratch/prj/cb_normalbreast/Siyuan/prj_normal/BreastAgeNet/experiments/SGK_healthy/iBOT_augmentation/iBOT_augmentation_fold3_test.csv saved!\n",
      "train_data\n",
      "age_group\n",
      "30-50y    330\n",
      ">50y      273\n",
      "<30y      129\n",
      "Name: count, dtype: int64\n",
      "val_data\n",
      "age_group\n",
      "30-50y    33\n",
      ">50y      27\n",
      "<30y      13\n",
      "Name: count, dtype: int64\n",
      "test_data\n",
      "age_group\n",
      "30-50y    82\n",
      ">50y      68\n",
      "<30y      33\n",
      "Name: count, dtype: int64\n",
      "creating dataloaders (path->tensor)\n",
      "------------------------------\n",
      "preparing attention-based MIL model...\n",
      "------------------------------\n",
      "preparing weighted loss function...\n",
      "------------------------------\n",
      "preparing optimizer\n",
      "------------------------------\n",
      "START TRAINING ...\n",
      "------------------------------\n",
      "0/99 epoch\n",
      "\n",
      "Training\n",
      "\n"
     ]
    },
    {
     "name": "stderr",
     "output_type": "stream",
     "text": [
      "100%|██████████| 164/164 [00:02<00:00, 67.69it/s]\n"
     ]
    },
    {
     "name": "stdout",
     "output_type": "stream",
     "text": [
      "<class 'float'> <class 'float'>\n",
      "\n",
      " train Loss: 1.0409  ACC: 0.4674\n",
      "Validation....\n",
      "\n"
     ]
    },
    {
     "name": "stderr",
     "output_type": "stream",
     "text": [
      "100%|██████████| 19/19 [00:00<00:00, 22.16it/s]\n"
     ]
    },
    {
     "name": "stdout",
     "output_type": "stream",
     "text": [
      "\n",
      " val Loss: 0.9695   ACC: 0.4795\n",
      "\n",
      "Validation loss decreased (inf --> 0.969459).  Saving model ...\n",
      "------------------------------\n",
      "1/99 epoch\n",
      "\n",
      "Training\n",
      "\n"
     ]
    },
    {
     "name": "stderr",
     "output_type": "stream",
     "text": [
      "100%|██████████| 164/164 [00:02<00:00, 69.63it/s] \n"
     ]
    },
    {
     "name": "stdout",
     "output_type": "stream",
     "text": [
      "<class 'float'> <class 'float'>\n",
      "\n",
      " train Loss: 0.9342  ACC: 0.5584\n",
      "Validation....\n",
      "\n"
     ]
    },
    {
     "name": "stderr",
     "output_type": "stream",
     "text": [
      "100%|██████████| 19/19 [00:00<00:00, 23.32it/s]\n"
     ]
    },
    {
     "name": "stdout",
     "output_type": "stream",
     "text": [
      "\n",
      " val Loss: 0.9758   ACC: 0.5205\n",
      "\n",
      "EarlyStopping counter: 1 out of 5\n",
      "------------------------------\n",
      "2/99 epoch\n",
      "\n",
      "Training\n",
      "\n"
     ]
    },
    {
     "name": "stderr",
     "output_type": "stream",
     "text": [
      "100%|██████████| 164/164 [00:02<00:00, 67.99it/s] \n"
     ]
    },
    {
     "name": "stdout",
     "output_type": "stream",
     "text": [
      "<class 'float'> <class 'float'>\n",
      "\n",
      " train Loss: 0.9027  ACC: 0.5766\n",
      "Validation....\n",
      "\n"
     ]
    },
    {
     "name": "stderr",
     "output_type": "stream",
     "text": [
      "100%|██████████| 19/19 [00:00<00:00, 22.25it/s]\n"
     ]
    },
    {
     "name": "stdout",
     "output_type": "stream",
     "text": [
      "\n",
      " val Loss: 0.9491   ACC: 0.5616\n",
      "\n",
      "Validation loss decreased (0.969459 --> 0.949070).  Saving model ...\n",
      "------------------------------\n",
      "3/99 epoch\n",
      "\n",
      "Training\n",
      "\n"
     ]
    },
    {
     "name": "stderr",
     "output_type": "stream",
     "text": [
      "100%|██████████| 164/164 [00:02<00:00, 69.50it/s]\n"
     ]
    },
    {
     "name": "stdout",
     "output_type": "stream",
     "text": [
      "<class 'float'> <class 'float'>\n",
      "\n",
      " train Loss: 0.8652  ACC: 0.6085\n",
      "Validation....\n",
      "\n"
     ]
    },
    {
     "name": "stderr",
     "output_type": "stream",
     "text": [
      "100%|██████████| 19/19 [00:00<00:00, 22.15it/s]\n"
     ]
    },
    {
     "name": "stdout",
     "output_type": "stream",
     "text": [
      "\n",
      " val Loss: 0.8829   ACC: 0.5616\n",
      "\n",
      "Validation loss decreased (0.949070 --> 0.882887).  Saving model ...\n",
      "------------------------------\n",
      "4/99 epoch\n",
      "\n",
      "Training\n",
      "\n"
     ]
    },
    {
     "name": "stderr",
     "output_type": "stream",
     "text": [
      "100%|██████████| 164/164 [00:02<00:00, 67.65it/s] \n"
     ]
    },
    {
     "name": "stdout",
     "output_type": "stream",
     "text": [
      "<class 'float'> <class 'float'>\n",
      "\n",
      " train Loss: 0.8047  ACC: 0.6434\n",
      "Validation....\n",
      "\n"
     ]
    },
    {
     "name": "stderr",
     "output_type": "stream",
     "text": [
      "100%|██████████| 19/19 [00:00<00:00, 24.56it/s]\n"
     ]
    },
    {
     "name": "stdout",
     "output_type": "stream",
     "text": [
      "\n",
      " val Loss: 0.8885   ACC: 0.5753\n",
      "\n",
      "EarlyStopping counter: 1 out of 5\n",
      "------------------------------\n",
      "5/99 epoch\n",
      "\n",
      "Training\n",
      "\n"
     ]
    },
    {
     "name": "stderr",
     "output_type": "stream",
     "text": [
      "100%|██████████| 164/164 [00:02<00:00, 68.30it/s]\n"
     ]
    },
    {
     "name": "stdout",
     "output_type": "stream",
     "text": [
      "<class 'float'> <class 'float'>\n",
      "\n",
      " train Loss: 0.8053  ACC: 0.6267\n",
      "Validation....\n",
      "\n"
     ]
    },
    {
     "name": "stderr",
     "output_type": "stream",
     "text": [
      "100%|██████████| 19/19 [00:00<00:00, 21.48it/s]\n"
     ]
    },
    {
     "name": "stdout",
     "output_type": "stream",
     "text": [
      "\n",
      " val Loss: 0.8826   ACC: 0.589\n",
      "\n",
      "Validation loss decreased (0.882887 --> 0.882557).  Saving model ...\n",
      "------------------------------\n",
      "6/99 epoch\n",
      "\n",
      "Training\n",
      "\n"
     ]
    },
    {
     "name": "stderr",
     "output_type": "stream",
     "text": [
      "100%|██████████| 164/164 [00:02<00:00, 72.69it/s] \n"
     ]
    },
    {
     "name": "stdout",
     "output_type": "stream",
     "text": [
      "<class 'float'> <class 'float'>\n",
      "\n",
      " train Loss: 0.7107  ACC: 0.6844\n",
      "Validation....\n",
      "\n"
     ]
    },
    {
     "name": "stderr",
     "output_type": "stream",
     "text": [
      "100%|██████████| 19/19 [00:00<00:00, 20.86it/s]\n"
     ]
    },
    {
     "name": "stdout",
     "output_type": "stream",
     "text": [
      "\n",
      " val Loss: 0.8664   ACC: 0.6438\n",
      "\n",
      "Validation loss decreased (0.882557 --> 0.866411).  Saving model ...\n",
      "------------------------------\n",
      "7/99 epoch\n",
      "\n",
      "Training\n",
      "\n"
     ]
    },
    {
     "name": "stderr",
     "output_type": "stream",
     "text": [
      "100%|██████████| 164/164 [00:02<00:00, 69.54it/s]\n"
     ]
    },
    {
     "name": "stdout",
     "output_type": "stream",
     "text": [
      "<class 'float'> <class 'float'>\n",
      "\n",
      " train Loss: 0.6746  ACC: 0.7026\n",
      "Validation....\n",
      "\n"
     ]
    },
    {
     "name": "stderr",
     "output_type": "stream",
     "text": [
      "100%|██████████| 19/19 [00:00<00:00, 24.31it/s]\n"
     ]
    },
    {
     "name": "stdout",
     "output_type": "stream",
     "text": [
      "\n",
      " val Loss: 0.904   ACC: 0.5616\n",
      "\n",
      "EarlyStopping counter: 1 out of 5\n",
      "------------------------------\n",
      "8/99 epoch\n",
      "\n",
      "Training\n",
      "\n"
     ]
    },
    {
     "name": "stderr",
     "output_type": "stream",
     "text": [
      "100%|██████████| 164/164 [00:02<00:00, 70.48it/s]\n"
     ]
    },
    {
     "name": "stdout",
     "output_type": "stream",
     "text": [
      "<class 'float'> <class 'float'>\n",
      "\n",
      " train Loss: 0.627  ACC: 0.7147\n",
      "Validation....\n",
      "\n"
     ]
    },
    {
     "name": "stderr",
     "output_type": "stream",
     "text": [
      "100%|██████████| 19/19 [00:00<00:00, 23.11it/s]\n"
     ]
    },
    {
     "name": "stdout",
     "output_type": "stream",
     "text": [
      "\n",
      " val Loss: 1.0425   ACC: 0.589\n",
      "\n",
      "EarlyStopping counter: 2 out of 5\n",
      "------------------------------\n",
      "9/99 epoch\n",
      "\n",
      "Training\n",
      "\n"
     ]
    },
    {
     "name": "stderr",
     "output_type": "stream",
     "text": [
      "100%|██████████| 164/164 [00:02<00:00, 67.18it/s]\n"
     ]
    },
    {
     "name": "stdout",
     "output_type": "stream",
     "text": [
      "<class 'float'> <class 'float'>\n",
      "\n",
      " train Loss: 0.5566  ACC: 0.7602\n",
      "Validation....\n",
      "\n"
     ]
    },
    {
     "name": "stderr",
     "output_type": "stream",
     "text": [
      "100%|██████████| 19/19 [00:00<00:00, 22.01it/s]\n"
     ]
    },
    {
     "name": "stdout",
     "output_type": "stream",
     "text": [
      "\n",
      " val Loss: 0.935   ACC: 0.6575\n",
      "\n",
      "EarlyStopping counter: 3 out of 5\n",
      "------------------------------\n",
      "10/99 epoch\n",
      "\n",
      "Training\n",
      "\n"
     ]
    },
    {
     "name": "stderr",
     "output_type": "stream",
     "text": [
      "100%|██████████| 164/164 [00:02<00:00, 68.18it/s]\n"
     ]
    },
    {
     "name": "stdout",
     "output_type": "stream",
     "text": [
      "<class 'float'> <class 'float'>\n",
      "\n",
      " train Loss: 0.4974  ACC: 0.8027\n",
      "Validation....\n",
      "\n"
     ]
    },
    {
     "name": "stderr",
     "output_type": "stream",
     "text": [
      "100%|██████████| 19/19 [00:00<00:00, 24.53it/s]\n"
     ]
    },
    {
     "name": "stdout",
     "output_type": "stream",
     "text": [
      "\n",
      " val Loss: 0.9721   ACC: 0.5342\n",
      "\n",
      "EarlyStopping counter: 4 out of 5\n",
      "------------------------------\n",
      "11/99 epoch\n",
      "\n",
      "Training\n",
      "\n"
     ]
    },
    {
     "name": "stderr",
     "output_type": "stream",
     "text": [
      "100%|██████████| 164/164 [00:02<00:00, 68.44it/s] \n"
     ]
    },
    {
     "name": "stdout",
     "output_type": "stream",
     "text": [
      "<class 'float'> <class 'float'>\n",
      "\n",
      " train Loss: 0.4417  ACC: 0.8118\n",
      "Validation....\n",
      "\n"
     ]
    },
    {
     "name": "stderr",
     "output_type": "stream",
     "text": [
      "100%|██████████| 19/19 [00:00<00:00, 22.19it/s]\n"
     ]
    },
    {
     "name": "stdout",
     "output_type": "stream",
     "text": [
      "\n",
      " val Loss: 1.0745   ACC: 0.6027\n",
      "\n",
      "EarlyStopping counter: 5 out of 5\n",
      "------------------------------\n",
      "12/99 epoch\n",
      "\n",
      "Training\n",
      "\n"
     ]
    },
    {
     "name": "stderr",
     "output_type": "stream",
     "text": [
      "100%|██████████| 164/164 [00:02<00:00, 68.22it/s]\n"
     ]
    },
    {
     "name": "stdout",
     "output_type": "stream",
     "text": [
      "<class 'float'> <class 'float'>\n",
      "\n",
      " train Loss: 0.3932  ACC: 0.8756\n",
      "Validation....\n",
      "\n"
     ]
    },
    {
     "name": "stderr",
     "output_type": "stream",
     "text": [
      "100%|██████████| 19/19 [00:00<00:00, 22.31it/s]\n"
     ]
    },
    {
     "name": "stdout",
     "output_type": "stream",
     "text": [
      "\n",
      " val Loss: 1.1028   ACC: 0.5753\n",
      "\n",
      "EarlyStopping counter: 6 out of 5\n",
      "------------------------------\n",
      "13/99 epoch\n",
      "\n",
      "Training\n",
      "\n"
     ]
    },
    {
     "name": "stderr",
     "output_type": "stream",
     "text": [
      "100%|██████████| 164/164 [00:02<00:00, 68.95it/s] \n"
     ]
    },
    {
     "name": "stdout",
     "output_type": "stream",
     "text": [
      "<class 'float'> <class 'float'>\n",
      "\n",
      " train Loss: 0.3098  ACC: 0.8756\n",
      "Validation....\n",
      "\n"
     ]
    },
    {
     "name": "stderr",
     "output_type": "stream",
     "text": [
      "100%|██████████| 19/19 [00:00<00:00, 23.37it/s]\n"
     ]
    },
    {
     "name": "stdout",
     "output_type": "stream",
     "text": [
      "\n",
      " val Loss: 1.0967   ACC: 0.589\n",
      "\n",
      "EarlyStopping counter: 7 out of 5\n",
      "------------------------------\n",
      "14/99 epoch\n",
      "\n",
      "Training\n",
      "\n"
     ]
    },
    {
     "name": "stderr",
     "output_type": "stream",
     "text": [
      "100%|██████████| 164/164 [00:02<00:00, 69.08it/s]\n"
     ]
    },
    {
     "name": "stdout",
     "output_type": "stream",
     "text": [
      "<class 'float'> <class 'float'>\n",
      "\n",
      " train Loss: 0.2863  ACC: 0.8832\n",
      "Validation....\n",
      "\n"
     ]
    },
    {
     "name": "stderr",
     "output_type": "stream",
     "text": [
      "100%|██████████| 19/19 [00:00<00:00, 22.55it/s]\n"
     ]
    },
    {
     "name": "stdout",
     "output_type": "stream",
     "text": [
      "\n",
      " val Loss: 1.2501   ACC: 0.6301\n",
      "\n",
      "EarlyStopping counter: 8 out of 5\n",
      "------------------------------\n",
      "15/99 epoch\n",
      "\n",
      "Training\n",
      "\n"
     ]
    },
    {
     "name": "stderr",
     "output_type": "stream",
     "text": [
      "100%|██████████| 164/164 [00:02<00:00, 69.36it/s]\n"
     ]
    },
    {
     "name": "stdout",
     "output_type": "stream",
     "text": [
      "<class 'float'> <class 'float'>\n",
      "\n",
      " train Loss: 0.2436  ACC: 0.912\n",
      "Validation....\n",
      "\n"
     ]
    },
    {
     "name": "stderr",
     "output_type": "stream",
     "text": [
      "100%|██████████| 19/19 [00:00<00:00, 20.85it/s]\n"
     ]
    },
    {
     "name": "stdout",
     "output_type": "stream",
     "text": [
      "\n",
      " val Loss: 1.365   ACC: 0.6164\n",
      "\n",
      "EarlyStopping counter: 9 out of 5\n",
      "------------------------------\n",
      "16/99 epoch\n",
      "\n",
      "Training\n",
      "\n"
     ]
    },
    {
     "name": "stderr",
     "output_type": "stream",
     "text": [
      "100%|██████████| 164/164 [00:02<00:00, 70.00it/s]\n"
     ]
    },
    {
     "name": "stdout",
     "output_type": "stream",
     "text": [
      "<class 'float'> <class 'float'>\n",
      "\n",
      " train Loss: 0.2591  ACC: 0.9135\n",
      "Validation....\n",
      "\n"
     ]
    },
    {
     "name": "stderr",
     "output_type": "stream",
     "text": [
      "100%|██████████| 19/19 [00:00<00:00, 23.59it/s]\n"
     ]
    },
    {
     "name": "stdout",
     "output_type": "stream",
     "text": [
      "\n",
      " val Loss: 1.3112   ACC: 0.5616\n",
      "\n",
      "EarlyStopping counter: 10 out of 5\n",
      "------------------------------\n",
      "17/99 epoch\n",
      "\n",
      "Training\n",
      "\n"
     ]
    },
    {
     "name": "stderr",
     "output_type": "stream",
     "text": [
      "100%|██████████| 164/164 [00:02<00:00, 71.06it/s]\n"
     ]
    },
    {
     "name": "stdout",
     "output_type": "stream",
     "text": [
      "<class 'float'> <class 'float'>\n",
      "\n",
      " train Loss: 0.1888  ACC: 0.9423\n",
      "Validation....\n",
      "\n"
     ]
    },
    {
     "name": "stderr",
     "output_type": "stream",
     "text": [
      "100%|██████████| 19/19 [00:00<00:00, 25.95it/s]\n"
     ]
    },
    {
     "name": "stdout",
     "output_type": "stream",
     "text": [
      "\n",
      " val Loss: 1.2988   ACC: 0.6301\n",
      "\n",
      "EarlyStopping counter: 11 out of 5\n",
      "------------------------------\n",
      "18/99 epoch\n",
      "\n",
      "Training\n",
      "\n"
     ]
    },
    {
     "name": "stderr",
     "output_type": "stream",
     "text": [
      "100%|██████████| 164/164 [00:02<00:00, 70.24it/s]\n"
     ]
    },
    {
     "name": "stdout",
     "output_type": "stream",
     "text": [
      "<class 'float'> <class 'float'>\n",
      "\n",
      " train Loss: 0.1414  ACC: 0.9666\n",
      "Validation....\n",
      "\n"
     ]
    },
    {
     "name": "stderr",
     "output_type": "stream",
     "text": [
      "100%|██████████| 19/19 [00:00<00:00, 22.64it/s]\n"
     ]
    },
    {
     "name": "stdout",
     "output_type": "stream",
     "text": [
      "\n",
      " val Loss: 1.4345   ACC: 0.5616\n",
      "\n",
      "EarlyStopping counter: 12 out of 5\n",
      "------------------------------\n",
      "19/99 epoch\n",
      "\n",
      "Training\n",
      "\n"
     ]
    },
    {
     "name": "stderr",
     "output_type": "stream",
     "text": [
      "100%|██████████| 164/164 [00:02<00:00, 71.64it/s] \n"
     ]
    },
    {
     "name": "stdout",
     "output_type": "stream",
     "text": [
      "<class 'float'> <class 'float'>\n",
      "\n",
      " train Loss: 0.1307  ACC: 0.959\n",
      "Validation....\n",
      "\n"
     ]
    },
    {
     "name": "stderr",
     "output_type": "stream",
     "text": [
      "100%|██████████| 19/19 [00:00<00:00, 22.01it/s]\n"
     ]
    },
    {
     "name": "stdout",
     "output_type": "stream",
     "text": [
      "\n",
      " val Loss: 1.5351   ACC: 0.589\n",
      "\n",
      "EarlyStopping counter: 13 out of 5\n",
      "------------------------------\n",
      "20/99 epoch\n",
      "\n",
      "Training\n",
      "\n"
     ]
    },
    {
     "name": "stderr",
     "output_type": "stream",
     "text": [
      "100%|██████████| 164/164 [00:02<00:00, 68.81it/s]\n"
     ]
    },
    {
     "name": "stdout",
     "output_type": "stream",
     "text": [
      "<class 'float'> <class 'float'>\n",
      "\n",
      " train Loss: 0.0819  ACC: 0.9818\n",
      "Validation....\n",
      "\n"
     ]
    },
    {
     "name": "stderr",
     "output_type": "stream",
     "text": [
      "100%|██████████| 19/19 [00:00<00:00, 22.95it/s]\n"
     ]
    },
    {
     "name": "stdout",
     "output_type": "stream",
     "text": [
      "\n",
      " val Loss: 1.726   ACC: 0.6027\n",
      "\n",
      "EarlyStopping counter: 14 out of 5\n",
      "------------------------------\n",
      "21/99 epoch\n",
      "\n",
      "Training\n",
      "\n"
     ]
    },
    {
     "name": "stderr",
     "output_type": "stream",
     "text": [
      "100%|██████████| 164/164 [00:02<00:00, 70.21it/s]\n"
     ]
    },
    {
     "name": "stdout",
     "output_type": "stream",
     "text": [
      "<class 'float'> <class 'float'>\n",
      "\n",
      " train Loss: 0.0626  ACC: 0.9879\n",
      "Validation....\n",
      "\n"
     ]
    },
    {
     "name": "stderr",
     "output_type": "stream",
     "text": [
      "100%|██████████| 19/19 [00:00<00:00, 21.18it/s]\n"
     ]
    },
    {
     "name": "stdout",
     "output_type": "stream",
     "text": [
      "\n",
      " val Loss: 1.7384   ACC: 0.589\n",
      "\n",
      "EarlyStopping counter: 15 out of 5\n",
      "------------------------------\n",
      "Training stop, the validation loss did not drop for 5 epochs!!!\n",
      "------------------------------\n",
      "Training completed in 1m 11s\n",
      "------------------------------\n",
      "START TESTING ...\n",
      "------------------------------\n"
     ]
    },
    {
     "name": "stderr",
     "output_type": "stream",
     "text": [
      "100%|██████████| 46/46 [00:01<00:00, 40.51it/s]\n"
     ]
    },
    {
     "name": "stdout",
     "output_type": "stream",
     "text": [
      "0.512\n",
      "0.578\n",
      "0.822\n",
      "This is fold 4\n",
      "------------------------------\n",
      "splitting data\n",
      "------------------------------\n",
      "preparing train/test patients, 0.9/0.1\n",
      "preparing train/val patients, 0.9/0.1\n",
      "adding is_valid and feaBag_pt columns...\n",
      "/scratch/prj/cb_normalbreast/Siyuan/prj_normal/BreastAgeNet/experiments/SGK_healthy/iBOT_augmentation/iBOT_augmentation_fold4_train.csv saved!\n",
      "/scratch/prj/cb_normalbreast/Siyuan/prj_normal/BreastAgeNet/experiments/SGK_healthy/iBOT_augmentation/iBOT_augmentation_fold4_test.csv saved!\n",
      "train_data\n",
      "age_group\n",
      "30-50y    330\n",
      ">50y      273\n",
      "<30y      129\n",
      "Name: count, dtype: int64\n",
      "val_data\n",
      "age_group\n",
      "30-50y    33\n",
      ">50y      27\n",
      "<30y      13\n",
      "Name: count, dtype: int64\n",
      "test_data\n",
      "age_group\n",
      "30-50y    82\n",
      ">50y      68\n",
      "<30y      33\n",
      "Name: count, dtype: int64\n",
      "creating dataloaders (path->tensor)\n",
      "------------------------------\n",
      "preparing attention-based MIL model...\n",
      "------------------------------\n",
      "preparing weighted loss function...\n",
      "------------------------------\n",
      "preparing optimizer\n",
      "------------------------------\n",
      "START TRAINING ...\n",
      "------------------------------\n",
      "0/99 epoch\n",
      "\n",
      "Training\n",
      "\n"
     ]
    },
    {
     "name": "stderr",
     "output_type": "stream",
     "text": [
      "100%|██████████| 164/164 [00:02<00:00, 65.09it/s]\n"
     ]
    },
    {
     "name": "stdout",
     "output_type": "stream",
     "text": [
      "<class 'float'> <class 'float'>\n",
      "\n",
      " train Loss: 1.046  ACC: 0.4734\n",
      "Validation....\n",
      "\n"
     ]
    },
    {
     "name": "stderr",
     "output_type": "stream",
     "text": [
      "100%|██████████| 19/19 [00:00<00:00, 24.14it/s]\n"
     ]
    },
    {
     "name": "stdout",
     "output_type": "stream",
     "text": [
      "\n",
      " val Loss: 0.9322   ACC: 0.5068\n",
      "\n",
      "Validation loss decreased (inf --> 0.932214).  Saving model ...\n",
      "------------------------------\n",
      "1/99 epoch\n",
      "\n",
      "Training\n",
      "\n"
     ]
    },
    {
     "name": "stderr",
     "output_type": "stream",
     "text": [
      "100%|██████████| 164/164 [00:02<00:00, 68.00it/s]\n"
     ]
    },
    {
     "name": "stdout",
     "output_type": "stream",
     "text": [
      "<class 'float'> <class 'float'>\n",
      "\n",
      " train Loss: 0.9268  ACC: 0.5584\n",
      "Validation....\n",
      "\n"
     ]
    },
    {
     "name": "stderr",
     "output_type": "stream",
     "text": [
      "100%|██████████| 19/19 [00:00<00:00, 21.78it/s]\n"
     ]
    },
    {
     "name": "stdout",
     "output_type": "stream",
     "text": [
      "\n",
      " val Loss: 0.962   ACC: 0.411\n",
      "\n",
      "EarlyStopping counter: 1 out of 5\n",
      "------------------------------\n",
      "2/99 epoch\n",
      "\n",
      "Training\n",
      "\n"
     ]
    },
    {
     "name": "stderr",
     "output_type": "stream",
     "text": [
      "100%|██████████| 164/164 [00:02<00:00, 65.19it/s]\n"
     ]
    },
    {
     "name": "stdout",
     "output_type": "stream",
     "text": [
      "<class 'float'> <class 'float'>\n",
      "\n",
      " train Loss: 0.9078  ACC: 0.5281\n",
      "Validation....\n",
      "\n"
     ]
    },
    {
     "name": "stderr",
     "output_type": "stream",
     "text": [
      "100%|██████████| 19/19 [00:00<00:00, 23.97it/s]\n"
     ]
    },
    {
     "name": "stdout",
     "output_type": "stream",
     "text": [
      "\n",
      " val Loss: 0.8931   ACC: 0.5753\n",
      "\n",
      "Validation loss decreased (0.932214 --> 0.893065).  Saving model ...\n",
      "------------------------------\n",
      "3/99 epoch\n",
      "\n",
      "Training\n",
      "\n"
     ]
    },
    {
     "name": "stderr",
     "output_type": "stream",
     "text": [
      "100%|██████████| 164/164 [00:02<00:00, 68.40it/s]\n"
     ]
    },
    {
     "name": "stdout",
     "output_type": "stream",
     "text": [
      "<class 'float'> <class 'float'>\n",
      "\n",
      " train Loss: 0.8165  ACC: 0.6191\n",
      "Validation....\n",
      "\n"
     ]
    },
    {
     "name": "stderr",
     "output_type": "stream",
     "text": [
      "100%|██████████| 19/19 [00:00<00:00, 21.76it/s]\n"
     ]
    },
    {
     "name": "stdout",
     "output_type": "stream",
     "text": [
      "\n",
      " val Loss: 0.9186   ACC: 0.5753\n",
      "\n",
      "EarlyStopping counter: 1 out of 5\n",
      "------------------------------\n",
      "4/99 epoch\n",
      "\n",
      "Training\n",
      "\n"
     ]
    },
    {
     "name": "stderr",
     "output_type": "stream",
     "text": [
      "100%|██████████| 164/164 [00:02<00:00, 68.07it/s]\n"
     ]
    },
    {
     "name": "stdout",
     "output_type": "stream",
     "text": [
      "<class 'float'> <class 'float'>\n",
      "\n",
      " train Loss: 0.8027  ACC: 0.6297\n",
      "Validation....\n",
      "\n"
     ]
    },
    {
     "name": "stderr",
     "output_type": "stream",
     "text": [
      "100%|██████████| 19/19 [00:00<00:00, 19.75it/s]\n"
     ]
    },
    {
     "name": "stdout",
     "output_type": "stream",
     "text": [
      "\n",
      " val Loss: 0.8971   ACC: 0.5342\n",
      "\n",
      "EarlyStopping counter: 2 out of 5\n",
      "------------------------------\n",
      "5/99 epoch\n",
      "\n",
      "Training\n",
      "\n"
     ]
    },
    {
     "name": "stderr",
     "output_type": "stream",
     "text": [
      "100%|██████████| 164/164 [00:02<00:00, 68.37it/s]\n"
     ]
    },
    {
     "name": "stdout",
     "output_type": "stream",
     "text": [
      "<class 'float'> <class 'float'>\n",
      "\n",
      " train Loss: 0.7502  ACC: 0.651\n",
      "Validation....\n",
      "\n"
     ]
    },
    {
     "name": "stderr",
     "output_type": "stream",
     "text": [
      "100%|██████████| 19/19 [00:00<00:00, 20.57it/s]\n"
     ]
    },
    {
     "name": "stdout",
     "output_type": "stream",
     "text": [
      "\n",
      " val Loss: 0.8606   ACC: 0.5753\n",
      "\n",
      "Validation loss decreased (0.893065 --> 0.860590).  Saving model ...\n",
      "------------------------------\n",
      "6/99 epoch\n",
      "\n",
      "Training\n",
      "\n"
     ]
    },
    {
     "name": "stderr",
     "output_type": "stream",
     "text": [
      "100%|██████████| 164/164 [00:02<00:00, 67.51it/s]\n"
     ]
    },
    {
     "name": "stdout",
     "output_type": "stream",
     "text": [
      "<class 'float'> <class 'float'>\n",
      "\n",
      " train Loss: 0.7352  ACC: 0.6555\n",
      "Validation....\n",
      "\n"
     ]
    },
    {
     "name": "stderr",
     "output_type": "stream",
     "text": [
      "100%|██████████| 19/19 [00:00<00:00, 24.37it/s]\n"
     ]
    },
    {
     "name": "stdout",
     "output_type": "stream",
     "text": [
      "\n",
      " val Loss: 0.9168   ACC: 0.5342\n",
      "\n",
      "EarlyStopping counter: 1 out of 5\n",
      "------------------------------\n",
      "7/99 epoch\n",
      "\n",
      "Training\n",
      "\n"
     ]
    },
    {
     "name": "stderr",
     "output_type": "stream",
     "text": [
      "100%|██████████| 164/164 [00:02<00:00, 65.65it/s]\n"
     ]
    },
    {
     "name": "stdout",
     "output_type": "stream",
     "text": [
      "<class 'float'> <class 'float'>\n",
      "\n",
      " train Loss: 0.6665  ACC: 0.6829\n",
      "Validation....\n",
      "\n"
     ]
    },
    {
     "name": "stderr",
     "output_type": "stream",
     "text": [
      "100%|██████████| 19/19 [00:00<00:00, 25.59it/s]\n"
     ]
    },
    {
     "name": "stdout",
     "output_type": "stream",
     "text": [
      "\n",
      " val Loss: 0.912   ACC: 0.589\n",
      "\n",
      "EarlyStopping counter: 2 out of 5\n",
      "------------------------------\n",
      "8/99 epoch\n",
      "\n",
      "Training\n",
      "\n"
     ]
    },
    {
     "name": "stderr",
     "output_type": "stream",
     "text": [
      "100%|██████████| 164/164 [00:02<00:00, 66.71it/s]\n"
     ]
    },
    {
     "name": "stdout",
     "output_type": "stream",
     "text": [
      "<class 'float'> <class 'float'>\n",
      "\n",
      " train Loss: 0.6011  ACC: 0.7451\n",
      "Validation....\n",
      "\n"
     ]
    },
    {
     "name": "stderr",
     "output_type": "stream",
     "text": [
      "100%|██████████| 19/19 [00:00<00:00, 24.51it/s]\n"
     ]
    },
    {
     "name": "stdout",
     "output_type": "stream",
     "text": [
      "\n",
      " val Loss: 0.9152   ACC: 0.5753\n",
      "\n",
      "EarlyStopping counter: 3 out of 5\n",
      "------------------------------\n",
      "9/99 epoch\n",
      "\n",
      "Training\n",
      "\n"
     ]
    },
    {
     "name": "stderr",
     "output_type": "stream",
     "text": [
      "100%|██████████| 164/164 [00:02<00:00, 66.64it/s]\n"
     ]
    },
    {
     "name": "stdout",
     "output_type": "stream",
     "text": [
      "<class 'float'> <class 'float'>\n",
      "\n",
      " train Loss: 0.5545  ACC: 0.7527\n",
      "Validation....\n",
      "\n"
     ]
    },
    {
     "name": "stderr",
     "output_type": "stream",
     "text": [
      "100%|██████████| 19/19 [00:00<00:00, 22.35it/s]\n"
     ]
    },
    {
     "name": "stdout",
     "output_type": "stream",
     "text": [
      "\n",
      " val Loss: 1.0617   ACC: 0.5753\n",
      "\n",
      "EarlyStopping counter: 4 out of 5\n",
      "------------------------------\n",
      "10/99 epoch\n",
      "\n",
      "Training\n",
      "\n"
     ]
    },
    {
     "name": "stderr",
     "output_type": "stream",
     "text": [
      "100%|██████████| 164/164 [00:02<00:00, 67.61it/s]\n"
     ]
    },
    {
     "name": "stdout",
     "output_type": "stream",
     "text": [
      "<class 'float'> <class 'float'>\n",
      "\n",
      " train Loss: 0.4941  ACC: 0.786\n",
      "Validation....\n",
      "\n"
     ]
    },
    {
     "name": "stderr",
     "output_type": "stream",
     "text": [
      "100%|██████████| 19/19 [00:00<00:00, 21.42it/s]\n"
     ]
    },
    {
     "name": "stdout",
     "output_type": "stream",
     "text": [
      "\n",
      " val Loss: 1.0282   ACC: 0.589\n",
      "\n",
      "EarlyStopping counter: 5 out of 5\n",
      "------------------------------\n",
      "11/99 epoch\n",
      "\n",
      "Training\n",
      "\n"
     ]
    },
    {
     "name": "stderr",
     "output_type": "stream",
     "text": [
      "100%|██████████| 164/164 [00:02<00:00, 67.04it/s]\n"
     ]
    },
    {
     "name": "stdout",
     "output_type": "stream",
     "text": [
      "<class 'float'> <class 'float'>\n",
      "\n",
      " train Loss: 0.4431  ACC: 0.8118\n",
      "Validation....\n",
      "\n"
     ]
    },
    {
     "name": "stderr",
     "output_type": "stream",
     "text": [
      "100%|██████████| 19/19 [00:00<00:00, 22.60it/s]\n"
     ]
    },
    {
     "name": "stdout",
     "output_type": "stream",
     "text": [
      "\n",
      " val Loss: 1.199   ACC: 0.5342\n",
      "\n",
      "EarlyStopping counter: 6 out of 5\n",
      "------------------------------\n",
      "12/99 epoch\n",
      "\n",
      "Training\n",
      "\n"
     ]
    },
    {
     "name": "stderr",
     "output_type": "stream",
     "text": [
      "100%|██████████| 164/164 [00:02<00:00, 66.75it/s]\n"
     ]
    },
    {
     "name": "stdout",
     "output_type": "stream",
     "text": [
      "<class 'float'> <class 'float'>\n",
      "\n",
      " train Loss: 0.3935  ACC: 0.8422\n",
      "Validation....\n",
      "\n"
     ]
    },
    {
     "name": "stderr",
     "output_type": "stream",
     "text": [
      "100%|██████████| 19/19 [00:00<00:00, 22.26it/s]\n"
     ]
    },
    {
     "name": "stdout",
     "output_type": "stream",
     "text": [
      "\n",
      " val Loss: 0.9857   ACC: 0.5479\n",
      "\n",
      "EarlyStopping counter: 7 out of 5\n",
      "------------------------------\n",
      "13/99 epoch\n",
      "\n",
      "Training\n",
      "\n"
     ]
    },
    {
     "name": "stderr",
     "output_type": "stream",
     "text": [
      "100%|██████████| 164/164 [00:02<00:00, 67.83it/s]\n"
     ]
    },
    {
     "name": "stdout",
     "output_type": "stream",
     "text": [
      "<class 'float'> <class 'float'>\n",
      "\n",
      " train Loss: 0.3473  ACC: 0.8619\n",
      "Validation....\n",
      "\n"
     ]
    },
    {
     "name": "stderr",
     "output_type": "stream",
     "text": [
      "100%|██████████| 19/19 [00:00<00:00, 22.50it/s]\n"
     ]
    },
    {
     "name": "stdout",
     "output_type": "stream",
     "text": [
      "\n",
      " val Loss: 1.1797   ACC: 0.6027\n",
      "\n",
      "EarlyStopping counter: 8 out of 5\n",
      "------------------------------\n",
      "14/99 epoch\n",
      "\n",
      "Training\n",
      "\n"
     ]
    },
    {
     "name": "stderr",
     "output_type": "stream",
     "text": [
      "100%|██████████| 164/164 [00:02<00:00, 65.65it/s]\n"
     ]
    },
    {
     "name": "stdout",
     "output_type": "stream",
     "text": [
      "<class 'float'> <class 'float'>\n",
      "\n",
      " train Loss: 0.3497  ACC: 0.8467\n",
      "Validation....\n",
      "\n"
     ]
    },
    {
     "name": "stderr",
     "output_type": "stream",
     "text": [
      "100%|██████████| 19/19 [00:00<00:00, 23.17it/s]\n"
     ]
    },
    {
     "name": "stdout",
     "output_type": "stream",
     "text": [
      "\n",
      " val Loss: 1.258   ACC: 0.5342\n",
      "\n",
      "EarlyStopping counter: 9 out of 5\n",
      "------------------------------\n",
      "15/99 epoch\n",
      "\n",
      "Training\n",
      "\n"
     ]
    },
    {
     "name": "stderr",
     "output_type": "stream",
     "text": [
      "100%|██████████| 164/164 [00:02<00:00, 66.54it/s]\n"
     ]
    },
    {
     "name": "stdout",
     "output_type": "stream",
     "text": [
      "<class 'float'> <class 'float'>\n",
      "\n",
      " train Loss: 0.2725  ACC: 0.8938\n",
      "Validation....\n",
      "\n"
     ]
    },
    {
     "name": "stderr",
     "output_type": "stream",
     "text": [
      "100%|██████████| 19/19 [00:00<00:00, 23.84it/s]\n"
     ]
    },
    {
     "name": "stdout",
     "output_type": "stream",
     "text": [
      "\n",
      " val Loss: 1.3354   ACC: 0.6027\n",
      "\n",
      "EarlyStopping counter: 10 out of 5\n",
      "------------------------------\n",
      "16/99 epoch\n",
      "\n",
      "Training\n",
      "\n"
     ]
    },
    {
     "name": "stderr",
     "output_type": "stream",
     "text": [
      "100%|██████████| 164/164 [00:02<00:00, 66.99it/s]\n"
     ]
    },
    {
     "name": "stdout",
     "output_type": "stream",
     "text": [
      "<class 'float'> <class 'float'>\n",
      "\n",
      " train Loss: 0.274  ACC: 0.8953\n",
      "Validation....\n",
      "\n"
     ]
    },
    {
     "name": "stderr",
     "output_type": "stream",
     "text": [
      "100%|██████████| 19/19 [00:00<00:00, 20.45it/s]\n"
     ]
    },
    {
     "name": "stdout",
     "output_type": "stream",
     "text": [
      "\n",
      " val Loss: 1.3088   ACC: 0.4932\n",
      "\n",
      "EarlyStopping counter: 11 out of 5\n",
      "------------------------------\n",
      "17/99 epoch\n",
      "\n",
      "Training\n",
      "\n"
     ]
    },
    {
     "name": "stderr",
     "output_type": "stream",
     "text": [
      "100%|██████████| 164/164 [00:02<00:00, 67.54it/s]\n"
     ]
    },
    {
     "name": "stdout",
     "output_type": "stream",
     "text": [
      "<class 'float'> <class 'float'>\n",
      "\n",
      " train Loss: 0.1929  ACC: 0.9393\n",
      "Validation....\n",
      "\n"
     ]
    },
    {
     "name": "stderr",
     "output_type": "stream",
     "text": [
      "100%|██████████| 19/19 [00:00<00:00, 23.74it/s]\n"
     ]
    },
    {
     "name": "stdout",
     "output_type": "stream",
     "text": [
      "\n",
      " val Loss: 1.432   ACC: 0.589\n",
      "\n",
      "EarlyStopping counter: 12 out of 5\n",
      "------------------------------\n",
      "18/99 epoch\n",
      "\n",
      "Training\n",
      "\n"
     ]
    },
    {
     "name": "stderr",
     "output_type": "stream",
     "text": [
      "100%|██████████| 164/164 [00:02<00:00, 66.64it/s]\n"
     ]
    },
    {
     "name": "stdout",
     "output_type": "stream",
     "text": [
      "<class 'float'> <class 'float'>\n",
      "\n",
      " train Loss: 0.2464  ACC: 0.9181\n",
      "Validation....\n",
      "\n"
     ]
    },
    {
     "name": "stderr",
     "output_type": "stream",
     "text": [
      "100%|██████████| 19/19 [00:00<00:00, 23.16it/s]\n"
     ]
    },
    {
     "name": "stdout",
     "output_type": "stream",
     "text": [
      "\n",
      " val Loss: 1.2375   ACC: 0.5479\n",
      "\n",
      "EarlyStopping counter: 13 out of 5\n",
      "------------------------------\n",
      "19/99 epoch\n",
      "\n",
      "Training\n",
      "\n"
     ]
    },
    {
     "name": "stderr",
     "output_type": "stream",
     "text": [
      "100%|██████████| 164/164 [00:02<00:00, 66.37it/s]\n"
     ]
    },
    {
     "name": "stdout",
     "output_type": "stream",
     "text": [
      "<class 'float'> <class 'float'>\n",
      "\n",
      " train Loss: 0.2256  ACC: 0.912\n",
      "Validation....\n",
      "\n"
     ]
    },
    {
     "name": "stderr",
     "output_type": "stream",
     "text": [
      "100%|██████████| 19/19 [00:00<00:00, 24.66it/s]\n"
     ]
    },
    {
     "name": "stdout",
     "output_type": "stream",
     "text": [
      "\n",
      " val Loss: 1.3116   ACC: 0.5753\n",
      "\n",
      "EarlyStopping counter: 14 out of 5\n",
      "------------------------------\n",
      "20/99 epoch\n",
      "\n",
      "Training\n",
      "\n"
     ]
    },
    {
     "name": "stderr",
     "output_type": "stream",
     "text": [
      "100%|██████████| 164/164 [00:02<00:00, 67.99it/s]\n"
     ]
    },
    {
     "name": "stdout",
     "output_type": "stream",
     "text": [
      "<class 'float'> <class 'float'>\n",
      "\n",
      " train Loss: 0.1305  ACC: 0.9651\n",
      "Validation....\n",
      "\n"
     ]
    },
    {
     "name": "stderr",
     "output_type": "stream",
     "text": [
      "100%|██████████| 19/19 [00:00<00:00, 24.13it/s]\n"
     ]
    },
    {
     "name": "stdout",
     "output_type": "stream",
     "text": [
      "\n",
      " val Loss: 1.4475   ACC: 0.5616\n",
      "\n",
      "EarlyStopping counter: 15 out of 5\n",
      "------------------------------\n",
      "21/99 epoch\n",
      "\n",
      "Training\n",
      "\n"
     ]
    },
    {
     "name": "stderr",
     "output_type": "stream",
     "text": [
      "100%|██████████| 164/164 [00:02<00:00, 68.94it/s]\n"
     ]
    },
    {
     "name": "stdout",
     "output_type": "stream",
     "text": [
      "<class 'float'> <class 'float'>\n",
      "\n",
      " train Loss: 0.1416  ACC: 0.953\n",
      "Validation....\n",
      "\n"
     ]
    },
    {
     "name": "stderr",
     "output_type": "stream",
     "text": [
      "100%|██████████| 19/19 [00:00<00:00, 24.74it/s]\n"
     ]
    },
    {
     "name": "stdout",
     "output_type": "stream",
     "text": [
      "\n",
      " val Loss: 1.8325   ACC: 0.589\n",
      "\n",
      "EarlyStopping counter: 16 out of 5\n",
      "------------------------------\n",
      "Training stop, the validation loss did not drop for 5 epochs!!!\n",
      "------------------------------\n",
      "Training completed in 1m 12s\n",
      "------------------------------\n",
      "START TESTING ...\n",
      "------------------------------\n"
     ]
    },
    {
     "name": "stderr",
     "output_type": "stream",
     "text": [
      "100%|██████████| 46/46 [00:01<00:00, 39.97it/s]"
     ]
    },
    {
     "name": "stdout",
     "output_type": "stream",
     "text": [
      "0.563\n",
      "0.611\n",
      "0.822\n"
     ]
    },
    {
     "name": "stderr",
     "output_type": "stream",
     "text": [
      "\n"
     ]
    }
   ],
   "source": [
    "folds = 5 # define how many folds\n",
    "resFolder = f'/scratch/prj/cb_normalbreast/Siyuan/prj_normal/BreastAgeNet/experiments/SGK_healthy/{model_name}_{stainFunc}' # save patient's fold assigning results\n",
    "if not os.path.exists(resFolder):\n",
    "    os.mkdir(resFolder)\n",
    "\n",
    "\n",
    "# loader\n",
    "bag_size = 512 # how many patches sampled or padded for each slide\n",
    "batch_size = 4 # how many patients/slides to load each step\n",
    "\n",
    "\n",
    "# model\n",
    "device = torch.device(\"cuda\" if torch.cuda.is_available() else \"cpu\") # GPU for training\n",
    "dim_input = get_dim_input(model_name) # UNI's input dim \n",
    "dim_output = 3 # output prediction\n",
    "\n",
    "\n",
    "# optimiser\n",
    "lr = 0.0001 # optimiser's lr\n",
    "weight_decay = 0.00001 # optimiser's regularity\n",
    "\n",
    "\n",
    "# early_stopping\n",
    "patience = 5\n",
    "minEpochTrain = 20\n",
    "max_epochs = 100\n",
    "\n",
    "\n",
    "# data split\n",
    "clinic_df = pd.read_csv(clinic) # get patients' info\n",
    "clinic_df = add_ageGroup(clinic_df) # add ground truth age group\n",
    "patientID, yTrue, yTrueLabel = get_patient_label(clinic_df, rootdir, model_name) # categorical ->numeric labels\n",
    "\n",
    "kf = StratifiedKFold(n_splits=folds, random_state=0, shuffle=True) # initialise KF\n",
    "kf.get_n_splits(patientID, yTrue)\n",
    "\n",
    "\n",
    "foldcounter = 0\n",
    "for train_index, test_index in kf.split(patientID, yTrue):\n",
    "    \n",
    "    print(f'This is fold {foldcounter}')\n",
    "    print('-'*30)\n",
    "\n",
    "    \n",
    "    print('splitting data')\n",
    "    print('-'*30)\n",
    "    fold_pt = f'{resFolder}/{model_name}_{stainFunc}_fold{foldcounter}_train.csv'\n",
    "    train_data, val_data, test_data = split_data(clinic_df, rootdir, stainFunc, patientID, yTrue, train_index, test_index, fold_pt) # .h5 file paths added\n",
    "    print('train_data')\n",
    "    print(train_data['age_group'].value_counts())\n",
    "    print('val_data')\n",
    "    print(val_data['age_group'].value_counts())\n",
    "    print('test_data')\n",
    "    print(test_data['age_group'].value_counts())\n",
    "\n",
    "    \n",
    "    print('creating dataloaders (path->tensor)')\n",
    "    print('-'*30)\n",
    "    dblock = DataBlock(blocks = (TransformBlock, CategoryBlock),\n",
    "                   get_x = ColReader('feaBag_pt'),\n",
    "                   get_y = ColReader('age_group'),\n",
    "                   splitter = ColSplitter('is_valid'),\n",
    "                   item_tfms = MILBagTransform(train_data.feaBag_pt, bag_size, cls))\n",
    "    \n",
    "    dls = dblock.dataloaders(train_data, bs = batch_size)\n",
    "    trainLoaders = dls.train\n",
    "    valLoaders = dls.valid\n",
    "\n",
    "\n",
    "    print('preparing attention-based MIL model...')\n",
    "    print('-'*30)\n",
    "    model = MILModel(dim_input, dim_output, with_attention_scores=True).to(device)\n",
    "\n",
    "\n",
    "    print('preparing weighted loss function...')\n",
    "    print('-'*30)\n",
    "    weight = train_data['age_group'].value_counts().sum() / train_data['age_group'].value_counts()\n",
    "    weight /= weight.sum()\n",
    "    weight = torch.tensor(list(map(weight.get, dls.vocab)))\n",
    "    criterion = CrossEntropyLossFlat(weight = weight.to(torch.float32)) # weighted loss function to handle imbalanced classes\n",
    "    criterion.to(device)\n",
    "\n",
    "\n",
    "    print('preparing optimizer')\n",
    "    optimizer = optim.Adam(filter(lambda p: p.requires_grad, model.parameters()), lr=lr, weight_decay=weight_decay)\n",
    "\n",
    "\n",
    "    print('-' * 30)\n",
    "    print('START TRAINING ...')\n",
    "    print('-' * 30)\n",
    "    model, train_loss_history, train_acc_history, val_loss_history, val_acc_history = train_model(model, trainLoaders, valLoaders, \n",
    "                                                                                                      optimizer, criterion,\n",
    "                                                                                                      patience, minEpochTrain, max_epochs, \n",
    "                                                                                                      model_name, stainFunc, foldcounter,resFolder)\n",
    "\n",
    "\n",
    "\n",
    "    torch.save(model.state_dict(), f'{resFolder}/{model_name}_{stainFunc}_MILfinalModel_fold{foldcounter}.pt')\n",
    "    history = pd.DataFrame({'train_loss': train_loss_history, 'train_acc': train_acc_history,\n",
    "                           'val_loss': val_loss_history, 'val_acc': val_acc_history})\n",
    "    history.to_csv(f'{resFolder}/{model_name}_{stainFunc}_TrainValhistory_fold{foldcounter}.csv')\n",
    "\n",
    "\n",
    "\n",
    "    print('-' * 30)\n",
    "    print('START TESTING ...')\n",
    "    print('-' * 30)\n",
    "    model.load_state_dict(torch.load(f\"{resFolder}/{model_name}_{stainFunc}_MILbestModel_fold{foldcounter}.pt\"))\n",
    "    model = model.to(device)\n",
    "    testLoader = dls.test_dl(test_data)\n",
    "\n",
    "    probsList, attention_scores  = test_model(model, testLoader)\n",
    "\n",
    "    target_labelDict = {'<30y': 0, '30-50y': 1, '>50y': 2}\n",
    "    probs = {}\n",
    "    for key in list(target_labelDict.keys()): # <30y 30-50y >50y\n",
    "        probs[key] = []\n",
    "        for item in probsList:\n",
    "            probs[key].append(item[int(target_labelDict[key])])\n",
    "\n",
    "\n",
    "    probs = pd.DataFrame.from_dict(probs) # 0.2, 0.5, 0.3\n",
    "    test_data = test_data.rename(columns = {'age_group': 'yTrueLabel'}) # cls->yTrueLabel\n",
    "    test_data['yTrue'] = [target_labelDict[i] for i in test_data['yTrueLabel']] # 0,1,2\n",
    "    testResults = pd.concat([test_data, probs], axis = 1)  # >50y, 2, 0.1, 0.3, 0.6                   \n",
    "    \n",
    "    for key in target_labelDict.keys():\n",
    "        yTrueList = testResults['yTrue']\n",
    "        yProbList = testResults[key]\n",
    "        fpr, tpr, thresholds = metrics.roc_curve(yTrueList, yProbList, pos_label = target_labelDict[key])\n",
    "        # print(fpr, tpr, thresholds)\n",
    "        print(np.round(metrics.auc(fpr, tpr), 3)) \n",
    "\n",
    "    foldcounter += 1"
   ]
  }
 ],
 "metadata": {
  "kernelspec": {
   "display_name": "torch_env",
   "language": "python",
   "name": "torch_env"
  },
  "language_info": {
   "codemirror_mode": {
    "name": "ipython",
    "version": 3
   },
   "file_extension": ".py",
   "mimetype": "text/x-python",
   "name": "python",
   "nbconvert_exporter": "python",
   "pygments_lexer": "ipython3",
   "version": "3.9.12"
  }
 },
 "nbformat": 4,
 "nbformat_minor": 5
}
